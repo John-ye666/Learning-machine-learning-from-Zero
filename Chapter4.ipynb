{
 "cells": [
  {
   "cell_type": "markdown",
   "id": "downtown-filing",
   "metadata": {},
   "source": [
    "# Chapter4: 逻辑回归-给病患和鸢尾花分类"
   ]
  },
  {
   "cell_type": "markdown",
   "id": "intended-sister",
   "metadata": {},
   "source": [
    "**特征工程**：从文本向数值转换的过程。因为机器不能识别字符但是可以识别数值。"
   ]
  },
  {
   "cell_type": "markdown",
   "id": "presidential-uruguay",
   "metadata": {},
   "source": [
    "##4.2.3 Sigmoid function\\\n",
    "既可以更好地拟合以概率为代表的分类结果，又能抑制两遍比较接近0和1 的极端例子，使之钝化，同时还可以保持函数拟合时对中间部分数据细微变化的敏感度。\n",
    "$$g(z)=\\frac{1}{1+e^{-z}}$$\n",
    "用z而不用x的原因是因为这是一个中间变量，代表线性回归的结果。$g(z)$输出的结果则是一个0~1的数字。"
   ]
  },
  {
   "cell_type": "code",
   "execution_count": null,
   "id": "compound-argument",
   "metadata": {},
   "outputs": [],
   "source": []
  },
  {
   "cell_type": "code",
   "execution_count": null,
   "id": "absent-shuttle",
   "metadata": {},
   "outputs": [],
   "source": []
  }
 ],
 "metadata": {
  "kernelspec": {
   "display_name": "Python 3",
   "language": "python",
   "name": "python3"
  },
  "language_info": {
   "codemirror_mode": {
    "name": "ipython",
    "version": 3
   },
   "file_extension": ".py",
   "mimetype": "text/x-python",
   "name": "python",
   "nbconvert_exporter": "python",
   "pygments_lexer": "ipython3",
   "version": "3.7.3"
  }
 },
 "nbformat": 4,
 "nbformat_minor": 5
}
