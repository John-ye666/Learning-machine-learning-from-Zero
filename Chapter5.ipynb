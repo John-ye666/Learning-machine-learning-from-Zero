{
 "cells": [
  {
   "cell_type": "markdown",
   "id": "dense-messaging",
   "metadata": {},
   "source": [
    "# Chapter 5 深度神经网络-找出可能流失的客户"
   ]
  },
  {
   "cell_type": "markdown",
   "id": "essential-collaboration",
   "metadata": {},
   "source": [
    "* 数据类型：\n",
    "    * 结构化数据：有预先定义好的结构\n",
    "    * 非结构化数据：没有什么预定义的数据结构，不方便用数据库存储，也不方便用Excel表格来表现的数据。\n",
    "    \n",
    "    \n",
    "比如判断哪张照片属于什么类型就是非结构数据（也称感知类数据，人脑可以毫不费力的识别，但是计算机不行）\\\n",
    "**维度灾难**：高维度带来了超高的复杂度和超巨大的特征空间。\\\n",
    "神经网络的原理和线性回归或者逻辑回归相同---通过不断训练找出最佳参数！\n",
    "\n",
    "***深度学习机理***： 用一串一串函数（层）不断堆叠起来，作用于输入数据，进行从原始数据到分类结果的过滤和提纯。\n",
    "\n",
    "学习：就是为了神经网络的每一个层中的每个神经元寻找最佳的权重。\n",
    "\n",
    "\n",
    "知识：学到的权重。\n",
    "    "
   ]
  },
  {
   "cell_type": "markdown",
   "id": "instrumental-portable",
   "metadata": {},
   "source": [
    "## 5.3 从感知器到单隐层网络"
   ]
  },
  {
   "cell_type": "markdown",
   "id": "resistant-platinum",
   "metadata": {},
   "source": [
    "**Sigmoid函数**在逻辑回归中叫逻辑函数，在神经网络中则成为激活函数，用以类比人类神经系统中神经元的‘激活’过程。\n",
    "\n",
    "* 输入空间：x\n",
    "* 输出空间：y, actually y is less than x\n",
    "* 特征空间： 每一个样本被称作一个实例，通常由特征向量表示，所有特征向量存在的空间被称为***特征空间***。 特征空间有时与输入空间相同，有时不同。因为有时候经过特征工程之后，输入空间可通过某种映射生成新的特征空间。\n",
    "* 假设空间：一般是对学习到的模型（函数）而言的。模型表达了输入到输出的一种映射集合，这个集合就是假设空间。假设空间代表着模型学习过程中能够覆盖的最大范围。\n"
   ]
  },
  {
   "cell_type": "markdown",
   "id": "fluid-classroom",
   "metadata": {},
   "source": [
    "**神经网络的上下标符号规则**：$w_{2.2}^{[1]}$中，*上*标的数字代表第几层，*下*标的数字有两个，第一个代表权重属于哪一个特征，即特征的维度；第二个代表其所连接到的下层神经元的维度。"
   ]
  },
  {
   "cell_type": "markdown",
   "id": "pleased-stewart",
   "metadata": {},
   "source": [
    "## 5.4 用Keras单隐层网络预测客户流失率"
   ]
  },
  {
   "cell_type": "code",
   "execution_count": 1,
   "id": "several-taste",
   "metadata": {},
   "outputs": [],
   "source": [
    "import numpy as np\n",
    "import pandas as pd\n",
    "import matplotlib.pyplot as plt\n",
    "import seaborn as sns\n"
   ]
  },
  {
   "cell_type": "code",
   "execution_count": 2,
   "id": "undefined-abraham",
   "metadata": {},
   "outputs": [
    {
     "data": {
      "text/html": [
       "<div>\n",
       "<style scoped>\n",
       "    .dataframe tbody tr th:only-of-type {\n",
       "        vertical-align: middle;\n",
       "    }\n",
       "\n",
       "    .dataframe tbody tr th {\n",
       "        vertical-align: top;\n",
       "    }\n",
       "\n",
       "    .dataframe thead th {\n",
       "        text-align: right;\n",
       "    }\n",
       "</style>\n",
       "<table border=\"1\" class=\"dataframe\">\n",
       "  <thead>\n",
       "    <tr style=\"text-align: right;\">\n",
       "      <th></th>\n",
       "      <th>Name</th>\n",
       "      <th>Gender</th>\n",
       "      <th>Age</th>\n",
       "      <th>City</th>\n",
       "      <th>Tenure</th>\n",
       "      <th>ProductsNo</th>\n",
       "      <th>HasCard</th>\n",
       "      <th>ActiveMember</th>\n",
       "      <th>Credit</th>\n",
       "      <th>AccountBal</th>\n",
       "      <th>Salary</th>\n",
       "      <th>Exited</th>\n",
       "    </tr>\n",
       "  </thead>\n",
       "  <tbody>\n",
       "    <tr>\n",
       "      <th>0</th>\n",
       "      <td>Kan Jian</td>\n",
       "      <td>Female</td>\n",
       "      <td>40</td>\n",
       "      <td>Beijing</td>\n",
       "      <td>9</td>\n",
       "      <td>2</td>\n",
       "      <td>0</td>\n",
       "      <td>1</td>\n",
       "      <td>516</td>\n",
       "      <td>6360.66</td>\n",
       "      <td>0.0000</td>\n",
       "      <td>0</td>\n",
       "    </tr>\n",
       "    <tr>\n",
       "      <th>1</th>\n",
       "      <td>Xue Baochai</td>\n",
       "      <td>Male</td>\n",
       "      <td>69</td>\n",
       "      <td>Beijing</td>\n",
       "      <td>6</td>\n",
       "      <td>2</td>\n",
       "      <td>0</td>\n",
       "      <td>1</td>\n",
       "      <td>682</td>\n",
       "      <td>28605.00</td>\n",
       "      <td>0.0000</td>\n",
       "      <td>0</td>\n",
       "    </tr>\n",
       "    <tr>\n",
       "      <th>2</th>\n",
       "      <td>Mao Xi</td>\n",
       "      <td>Female</td>\n",
       "      <td>32</td>\n",
       "      <td>Beijing</td>\n",
       "      <td>9</td>\n",
       "      <td>1</td>\n",
       "      <td>1</td>\n",
       "      <td>1</td>\n",
       "      <td>803</td>\n",
       "      <td>10378.09</td>\n",
       "      <td>236311.0932</td>\n",
       "      <td>1</td>\n",
       "    </tr>\n",
       "    <tr>\n",
       "      <th>3</th>\n",
       "      <td>Zheng Nengliang</td>\n",
       "      <td>Female</td>\n",
       "      <td>37</td>\n",
       "      <td>Tianjin</td>\n",
       "      <td>0</td>\n",
       "      <td>2</td>\n",
       "      <td>1</td>\n",
       "      <td>1</td>\n",
       "      <td>778</td>\n",
       "      <td>25564.01</td>\n",
       "      <td>129909.8079</td>\n",
       "      <td>1</td>\n",
       "    </tr>\n",
       "    <tr>\n",
       "      <th>4</th>\n",
       "      <td>Zhi Fen</td>\n",
       "      <td>Male</td>\n",
       "      <td>55</td>\n",
       "      <td>Tianjin</td>\n",
       "      <td>4</td>\n",
       "      <td>3</td>\n",
       "      <td>1</td>\n",
       "      <td>0</td>\n",
       "      <td>547</td>\n",
       "      <td>3235.61</td>\n",
       "      <td>136976.1948</td>\n",
       "      <td>1</td>\n",
       "    </tr>\n",
       "  </tbody>\n",
       "</table>\n",
       "</div>"
      ],
      "text/plain": [
       "              Name  Gender  Age     City  Tenure  ProductsNo  HasCard  \\\n",
       "0         Kan Jian  Female   40  Beijing       9           2        0   \n",
       "1      Xue Baochai    Male   69  Beijing       6           2        0   \n",
       "2           Mao Xi  Female   32  Beijing       9           1        1   \n",
       "3  Zheng Nengliang  Female   37  Tianjin       0           2        1   \n",
       "4          Zhi Fen    Male   55  Tianjin       4           3        1   \n",
       "\n",
       "   ActiveMember  Credit  AccountBal       Salary  Exited  \n",
       "0             1     516     6360.66       0.0000       0  \n",
       "1             1     682    28605.00       0.0000       0  \n",
       "2             1     803    10378.09  236311.0932       1  \n",
       "3             1     778    25564.01  129909.8079       1  \n",
       "4             0     547     3235.61  136976.1948       1  "
      ]
     },
     "execution_count": 2,
     "metadata": {},
     "output_type": "execute_result"
    }
   ],
   "source": [
    "df_bank=pd.read_csv('BankCustomer.csv')\n",
    "df_bank.head()"
   ]
  },
  {
   "cell_type": "code",
   "execution_count": 12,
   "id": "dated-malawi",
   "metadata": {},
   "outputs": [
    {
     "data": {
      "image/png": "[encoded data removed]",
      "text/plain": [
       "<Figure size 1080x1080 with 8 Axes>"
      ]
     },
     "metadata": {
      "needs_background": "light"
     },
     "output_type": "display_data"
    }
   ],
   "source": [
    "features=['City','Gender','Age','Tenure','ProductsNo','HasCard','ActiveMember','Exited']\n",
    "fig=plt.subplots(figsize=(15,15))\n",
    "for i,j in enumerate(features):\n",
    "    plt.subplot(4, 2, i+1)\n",
    "    plt.subplots_adjust(hspace=1.0)\n",
    "    sns.countplot(x=j,data = df_bank)\n",
    "    plt.title('No.of Costumers')\n",
    "#这里我之前犯错了了，feature内部的名字，比如ProductsNo中间不要有空格，有空格就会报错！"
   ]
  },
  {
   "cell_type": "markdown",
   "id": "restricted-walker",
   "metadata": {},
   "source": [
    "从图中可以看出有三个需要从三个方向上来cleaning data:\n",
    "    \n",
    "    \n",
    "* 性别：female 和male编程0/1代码，因为这属于’格式数据‘，在机器学习中需要转换成数字代码\n",
    "* 城市：是多元类别特征，需要转换为多个二元类别哑变量\n",
    "* 姓名与我们分析的问题无关，忽略掉。\n"
   ]
  },
  {
   "cell_type": "code",
   "execution_count": 14,
   "id": "tough-radiation",
   "metadata": {},
   "outputs": [
    {
     "name": "stdout",
     "output_type": "stream",
     "text": [
      "Gender unique values [0 1]\n"
     ]
    }
   ],
   "source": [
    "df_bank['Gender'].replace('Female',0,inplace=True)\n",
    "df_bank['Gender'].replace('Male',1,inplace=True)\n",
    "print('Gender unique values',df_bank['Gender'].unique())"
   ]
  },
  {
   "cell_type": "code",
   "execution_count": 15,
   "id": "musical-occasions",
   "metadata": {},
   "outputs": [
    {
     "data": {
      "text/html": [
       "<div>\n",
       "<style scoped>\n",
       "    .dataframe tbody tr th:only-of-type {\n",
       "        vertical-align: middle;\n",
       "    }\n",
       "\n",
       "    .dataframe tbody tr th {\n",
       "        vertical-align: top;\n",
       "    }\n",
       "\n",
       "    .dataframe thead th {\n",
       "        text-align: right;\n",
       "    }\n",
       "</style>\n",
       "<table border=\"1\" class=\"dataframe\">\n",
       "  <thead>\n",
       "    <tr style=\"text-align: right;\">\n",
       "      <th></th>\n",
       "      <th>Name</th>\n",
       "      <th>Gender</th>\n",
       "      <th>Age</th>\n",
       "      <th>City</th>\n",
       "      <th>Tenure</th>\n",
       "      <th>ProductsNo</th>\n",
       "      <th>HasCard</th>\n",
       "      <th>ActiveMember</th>\n",
       "      <th>Credit</th>\n",
       "      <th>AccountBal</th>\n",
       "      <th>Salary</th>\n",
       "      <th>Exited</th>\n",
       "      <th>City_Beijing</th>\n",
       "      <th>City_Shanghai</th>\n",
       "      <th>City_Tianjin</th>\n",
       "    </tr>\n",
       "  </thead>\n",
       "  <tbody>\n",
       "    <tr>\n",
       "      <th>0</th>\n",
       "      <td>Kan Jian</td>\n",
       "      <td>0</td>\n",
       "      <td>40</td>\n",
       "      <td>Beijing</td>\n",
       "      <td>9</td>\n",
       "      <td>2</td>\n",
       "      <td>0</td>\n",
       "      <td>1</td>\n",
       "      <td>516</td>\n",
       "      <td>6360.66</td>\n",
       "      <td>0.0000</td>\n",
       "      <td>0</td>\n",
       "      <td>1</td>\n",
       "      <td>0</td>\n",
       "      <td>0</td>\n",
       "    </tr>\n",
       "    <tr>\n",
       "      <th>1</th>\n",
       "      <td>Xue Baochai</td>\n",
       "      <td>1</td>\n",
       "      <td>69</td>\n",
       "      <td>Beijing</td>\n",
       "      <td>6</td>\n",
       "      <td>2</td>\n",
       "      <td>0</td>\n",
       "      <td>1</td>\n",
       "      <td>682</td>\n",
       "      <td>28605.00</td>\n",
       "      <td>0.0000</td>\n",
       "      <td>0</td>\n",
       "      <td>1</td>\n",
       "      <td>0</td>\n",
       "      <td>0</td>\n",
       "    </tr>\n",
       "    <tr>\n",
       "      <th>2</th>\n",
       "      <td>Mao Xi</td>\n",
       "      <td>0</td>\n",
       "      <td>32</td>\n",
       "      <td>Beijing</td>\n",
       "      <td>9</td>\n",
       "      <td>1</td>\n",
       "      <td>1</td>\n",
       "      <td>1</td>\n",
       "      <td>803</td>\n",
       "      <td>10378.09</td>\n",
       "      <td>236311.0932</td>\n",
       "      <td>1</td>\n",
       "      <td>1</td>\n",
       "      <td>0</td>\n",
       "      <td>0</td>\n",
       "    </tr>\n",
       "    <tr>\n",
       "      <th>3</th>\n",
       "      <td>Zheng Nengliang</td>\n",
       "      <td>0</td>\n",
       "      <td>37</td>\n",
       "      <td>Tianjin</td>\n",
       "      <td>0</td>\n",
       "      <td>2</td>\n",
       "      <td>1</td>\n",
       "      <td>1</td>\n",
       "      <td>778</td>\n",
       "      <td>25564.01</td>\n",
       "      <td>129909.8079</td>\n",
       "      <td>1</td>\n",
       "      <td>0</td>\n",
       "      <td>0</td>\n",
       "      <td>1</td>\n",
       "    </tr>\n",
       "    <tr>\n",
       "      <th>4</th>\n",
       "      <td>Zhi Fen</td>\n",
       "      <td>1</td>\n",
       "      <td>55</td>\n",
       "      <td>Tianjin</td>\n",
       "      <td>4</td>\n",
       "      <td>3</td>\n",
       "      <td>1</td>\n",
       "      <td>0</td>\n",
       "      <td>547</td>\n",
       "      <td>3235.61</td>\n",
       "      <td>136976.1948</td>\n",
       "      <td>1</td>\n",
       "      <td>0</td>\n",
       "      <td>0</td>\n",
       "      <td>1</td>\n",
       "    </tr>\n",
       "  </tbody>\n",
       "</table>\n",
       "</div>"
      ],
      "text/plain": [
       "              Name  Gender  Age     City  Tenure  ProductsNo  HasCard  \\\n",
       "0         Kan Jian       0   40  Beijing       9           2        0   \n",
       "1      Xue Baochai       1   69  Beijing       6           2        0   \n",
       "2           Mao Xi       0   32  Beijing       9           1        1   \n",
       "3  Zheng Nengliang       0   37  Tianjin       0           2        1   \n",
       "4          Zhi Fen       1   55  Tianjin       4           3        1   \n",
       "\n",
       "   ActiveMember  Credit  AccountBal       Salary  Exited  City_Beijing  \\\n",
       "0             1     516     6360.66       0.0000       0             1   \n",
       "1             1     682    28605.00       0.0000       0             1   \n",
       "2             1     803    10378.09  236311.0932       1             1   \n",
       "3             1     778    25564.01  129909.8079       1             0   \n",
       "4             0     547     3235.61  136976.1948       1             0   \n",
       "\n",
       "   City_Shanghai  City_Tianjin  \n",
       "0              0             0  \n",
       "1              0             0  \n",
       "2              0             0  \n",
       "3              0             1  \n",
       "4              0             1  "
      ]
     },
     "execution_count": 15,
     "metadata": {},
     "output_type": "execute_result"
    }
   ],
   "source": [
    "#对城市方面做data cleaning:转二元变量，然后再放回原始数据集\n",
    "d_city=pd.get_dummies(df_bank['City'],prefix='City')\n",
    "df_bank=[df_bank,d_city]#put bank to the data\n",
    "df_bank=pd.concat(df_bank,axis=1)#axis=1表示横向对齐。\n",
    "df_bank.head()"
   ]
  },
  {
   "cell_type": "markdown",
   "id": "buried-hughes",
   "metadata": {},
   "source": [
    "关于pd.concat（数据的合并与重塑）见这里：[pd.concat中问](https://blog.csdn.net/stevenkwong/article/details/52528616),非常好的中文说明！"
   ]
  },
  {
   "cell_type": "code",
   "execution_count": 17,
   "id": "secret-bread",
   "metadata": {},
   "outputs": [
    {
     "data": {
      "text/html": [
       "<div>\n",
       "<style scoped>\n",
       "    .dataframe tbody tr th:only-of-type {\n",
       "        vertical-align: middle;\n",
       "    }\n",
       "\n",
       "    .dataframe tbody tr th {\n",
       "        vertical-align: top;\n",
       "    }\n",
       "\n",
       "    .dataframe thead th {\n",
       "        text-align: right;\n",
       "    }\n",
       "</style>\n",
       "<table border=\"1\" class=\"dataframe\">\n",
       "  <thead>\n",
       "    <tr style=\"text-align: right;\">\n",
       "      <th></th>\n",
       "      <th>Gender</th>\n",
       "      <th>Age</th>\n",
       "      <th>Tenure</th>\n",
       "      <th>ProductsNo</th>\n",
       "      <th>HasCard</th>\n",
       "      <th>ActiveMember</th>\n",
       "      <th>Credit</th>\n",
       "      <th>AccountBal</th>\n",
       "      <th>Salary</th>\n",
       "      <th>City_Beijing</th>\n",
       "      <th>City_Shanghai</th>\n",
       "      <th>City_Tianjin</th>\n",
       "    </tr>\n",
       "  </thead>\n",
       "  <tbody>\n",
       "    <tr>\n",
       "      <th>0</th>\n",
       "      <td>0</td>\n",
       "      <td>40</td>\n",
       "      <td>9</td>\n",
       "      <td>2</td>\n",
       "      <td>0</td>\n",
       "      <td>1</td>\n",
       "      <td>516</td>\n",
       "      <td>6360.66</td>\n",
       "      <td>0.0000</td>\n",
       "      <td>1</td>\n",
       "      <td>0</td>\n",
       "      <td>0</td>\n",
       "    </tr>\n",
       "    <tr>\n",
       "      <th>1</th>\n",
       "      <td>1</td>\n",
       "      <td>69</td>\n",
       "      <td>6</td>\n",
       "      <td>2</td>\n",
       "      <td>0</td>\n",
       "      <td>1</td>\n",
       "      <td>682</td>\n",
       "      <td>28605.00</td>\n",
       "      <td>0.0000</td>\n",
       "      <td>1</td>\n",
       "      <td>0</td>\n",
       "      <td>0</td>\n",
       "    </tr>\n",
       "    <tr>\n",
       "      <th>2</th>\n",
       "      <td>0</td>\n",
       "      <td>32</td>\n",
       "      <td>9</td>\n",
       "      <td>1</td>\n",
       "      <td>1</td>\n",
       "      <td>1</td>\n",
       "      <td>803</td>\n",
       "      <td>10378.09</td>\n",
       "      <td>236311.0932</td>\n",
       "      <td>1</td>\n",
       "      <td>0</td>\n",
       "      <td>0</td>\n",
       "    </tr>\n",
       "    <tr>\n",
       "      <th>3</th>\n",
       "      <td>0</td>\n",
       "      <td>37</td>\n",
       "      <td>0</td>\n",
       "      <td>2</td>\n",
       "      <td>1</td>\n",
       "      <td>1</td>\n",
       "      <td>778</td>\n",
       "      <td>25564.01</td>\n",
       "      <td>129909.8079</td>\n",
       "      <td>0</td>\n",
       "      <td>0</td>\n",
       "      <td>1</td>\n",
       "    </tr>\n",
       "    <tr>\n",
       "      <th>4</th>\n",
       "      <td>1</td>\n",
       "      <td>55</td>\n",
       "      <td>4</td>\n",
       "      <td>3</td>\n",
       "      <td>1</td>\n",
       "      <td>0</td>\n",
       "      <td>547</td>\n",
       "      <td>3235.61</td>\n",
       "      <td>136976.1948</td>\n",
       "      <td>0</td>\n",
       "      <td>0</td>\n",
       "      <td>1</td>\n",
       "    </tr>\n",
       "  </tbody>\n",
       "</table>\n",
       "</div>"
      ],
      "text/plain": [
       "   Gender  Age  Tenure  ProductsNo  HasCard  ActiveMember  Credit  AccountBal  \\\n",
       "0       0   40       9           2        0             1     516     6360.66   \n",
       "1       1   69       6           2        0             1     682    28605.00   \n",
       "2       0   32       9           1        1             1     803    10378.09   \n",
       "3       0   37       0           2        1             1     778    25564.01   \n",
       "4       1   55       4           3        1             0     547     3235.61   \n",
       "\n",
       "        Salary  City_Beijing  City_Shanghai  City_Tianjin  \n",
       "0       0.0000             1              0             0  \n",
       "1       0.0000             1              0             0  \n",
       "2  236311.0932             1              0             0  \n",
       "3  129909.8079             0              0             1  \n",
       "4  136976.1948             0              0             1  "
      ]
     },
     "execution_count": 17,
     "metadata": {},
     "output_type": "execute_result"
    }
   ],
   "source": [
    "#构建特征和数据标签。\n",
    "y=df_bank['Exited']\n",
    "X=df_bank.drop(['Name','Exited','City'],axis=1)\n",
    "X.head()\n",
    "#数据标签一共有12个维度"
   ]
  },
  {
   "cell_type": "code",
   "execution_count": 18,
   "id": "maritime-claim",
   "metadata": {},
   "outputs": [],
   "source": [
    "from sklearn.model_selection import train_test_split\n",
    "X_train,X_test,y_train,y_test=train_test_split(X,y,test_size=0.2,random_state=0)"
   ]
  },
  {
   "cell_type": "code",
   "execution_count": 19,
   "id": "recorded-viewer",
   "metadata": {},
   "outputs": [
    {
     "name": "stdout",
     "output_type": "stream",
     "text": [
      "逻辑回归的预测准确率为：78.35%\n"
     ]
    }
   ],
   "source": [
    "#尝试先用Sklearn逻辑回归算法看一下：\n",
    "from sklearn.linear_model import LogisticRegression\n",
    "lr=LogisticRegression()\n",
    "history=lr.fit(X_train,y_train)\n",
    "print('逻辑回归的预测准确率为：{:.2f}%'.format(lr.score(X_test,y_test)*100))"
   ]
  },
  {
   "cell_type": "code",
   "execution_count": 31,
   "id": "based-spirituality",
   "metadata": {},
   "outputs": [
    {
     "name": "stdout",
     "output_type": "stream",
     "text": [
      "Model: \"sequential_1\"\n",
      "_________________________________________________________________\n",
      "Layer (type)                 Output Shape              Param #   \n",
      "=================================================================\n",
      "dense_5 (Dense)              (None, 12)                156       \n",
      "_________________________________________________________________\n",
      "dense_6 (Dense)              (None, 24)                312       \n",
      "_________________________________________________________________\n",
      "dense_7 (Dense)              (None, 1)                 25        \n",
      "=================================================================\n",
      "Total params: 493\n",
      "Trainable params: 493\n",
      "Non-trainable params: 0\n",
      "_________________________________________________________________\n"
     ]
    }
   ],
   "source": [
    "#使用Keras package 构建sequence网络\n",
    "import keras \n",
    "from keras.models import Sequential\n",
    "from keras.layers import Dense\n",
    "ann=Sequential()#构建一个Sequential ann模型\n",
    "ann.add(Dense(units=12,input_dim=12,activation='relu'))#添加输入层\n",
    "ann.add(Dense(units=24,activation='relu'))\n",
    "ann.add(Dense(units=1,activation='sigmoid'))\n",
    "ann.summary()"
   ]
  },
  {
   "cell_type": "markdown",
   "id": "integrated-cotton",
   "metadata": {},
   "source": [
    "***Sequential***也叫顺序模型，是最常用的深度网络层和层间结构，也就是一层接一层，顺序地堆叠。\n",
    "\n",
    "***Dense***是最常用的深度网络层的类型，也称为全连接层，即当前层和其下一层的所有神经元之间全有连接。"
   ]
  },
  {
   "cell_type": "code",
   "execution_count": 23,
   "id": "lined-press",
   "metadata": {},
   "outputs": [
    {
     "ename": "ModuleNotFoundError",
     "evalue": "No module named 'Ipython'",
     "output_type": "error",
     "traceback": [
      "\u001b[0;31m---------------------------------------------------------------------------\u001b[0m",
      "\u001b[0;31mModuleNotFoundError\u001b[0m                       Traceback (most recent call last)",
      "\u001b[0;32m<ipython-input-23-baef0fccf8e2>\u001b[0m in \u001b[0;36m<module>\u001b[0;34m\u001b[0m\n\u001b[1;32m      1\u001b[0m \u001b[0;31m#显示出神经网络形状的另一种方法：\u001b[0m\u001b[0;34m\u001b[0m\u001b[0;34m\u001b[0m\u001b[0;34m\u001b[0m\u001b[0m\n\u001b[0;32m----> 2\u001b[0;31m \u001b[0;32mfrom\u001b[0m \u001b[0mIpython\u001b[0m\u001b[0;34m.\u001b[0m\u001b[0mdisplay\u001b[0m \u001b[0;32mimport\u001b[0m \u001b[0mSVG\u001b[0m\u001b[0;34m\u001b[0m\u001b[0;34m\u001b[0m\u001b[0m\n\u001b[0m\u001b[1;32m      3\u001b[0m \u001b[0;32mfrom\u001b[0m \u001b[0mkeras\u001b[0m\u001b[0;34m.\u001b[0m\u001b[0mutils\u001b[0m\u001b[0;34m.\u001b[0m\u001b[0mvis_utils\u001b[0m \u001b[0;32mimport\u001b[0m \u001b[0mmodel_to_dot\u001b[0m\u001b[0;34m\u001b[0m\u001b[0;34m\u001b[0m\u001b[0m\n\u001b[1;32m      4\u001b[0m \u001b[0mSVG\u001b[0m\u001b[0;34m(\u001b[0m\u001b[0;34m(\u001b[0m\u001b[0mmodel_to_dot\u001b[0m\u001b[0;34m(\u001b[0m\u001b[0mann\u001b[0m\u001b[0;34m,\u001b[0m\u001b[0mshow_shape\u001b[0m\u001b[0;34m=\u001b[0m\u001b[0;32mTrue\u001b[0m\u001b[0;34m)\u001b[0m\u001b[0;34m.\u001b[0m\u001b[0mcreate\u001b[0m\u001b[0;34m(\u001b[0m\u001b[0mprog\u001b[0m\u001b[0;34m=\u001b[0m\u001b[0;34m'dot'\u001b[0m\u001b[0;34m,\u001b[0m\u001b[0mformat\u001b[0m\u001b[0;34m=\u001b[0m\u001b[0;34m'svg'\u001b[0m\u001b[0;34m)\u001b[0m\u001b[0;34m)\u001b[0m\u001b[0;34m)\u001b[0m\u001b[0;34m\u001b[0m\u001b[0;34m\u001b[0m\u001b[0m\n",
      "\u001b[0;31mModuleNotFoundError\u001b[0m: No module named 'Ipython'"
     ]
    }
   ],
   "source": [
    "#显示出神经网络形状的另一种方法：\n",
    "from Ipython.display import SVG\n",
    "from keras.utils.vis_utils import model_to_dot\n",
    "SVG((model_to_dot(ann,show_shape=True).create(prog='dot',format='svg')))"
   ]
  },
  {
   "cell_type": "code",
   "execution_count": 33,
   "id": "flush-minimum",
   "metadata": {},
   "outputs": [],
   "source": [
    "#编译神经网络，指定优化器，损失函数，以及评估指标\n",
    "ann.compile(optimizer='adam',loss='binary_crossentropy',metrics=['acc'])"
   ]
  },
  {
   "cell_type": "code",
   "execution_count": 29,
   "id": "increased-choir",
   "metadata": {},
   "outputs": [],
   "source": [
    "#使用Keras先训练着我们的单隐层神经网络\n",
    "#先修改之前的维度由11修改成12,因为我们X_train是12维\n",
    "ann.add(Dense(units=12,input_dim=12,activation='relu'))\n",
    "#书里介绍有些出入，如果单输入这一行之后，还是会报错，要在后边加上ann.compile（）命令才会生效。所以我为了省事，直接在原来的代码处吧input_dim=11改成了12\n"
   ]
  },
  {
   "cell_type": "code",
   "execution_count": 34,
   "id": "crude-essence",
   "metadata": {},
   "outputs": [
    {
     "name": "stdout",
     "output_type": "stream",
     "text": [
      "Epoch 1/30\n",
      "125/125 [==============================] - 9s 5ms/step - loss: 950.2191 - acc: 0.6827 - val_loss: 144.3540 - val_acc: 0.7370\n",
      "Epoch 2/30\n",
      "125/125 [==============================] - 0s 2ms/step - loss: 111.2014 - acc: 0.6480 - val_loss: 17.7266 - val_acc: 0.6615\n",
      "Epoch 3/30\n",
      "125/125 [==============================] - 0s 2ms/step - loss: 51.9573 - acc: 0.6451 - val_loss: 25.8654 - val_acc: 0.7245\n",
      "Epoch 4/30\n",
      "125/125 [==============================] - 0s 2ms/step - loss: 68.3972 - acc: 0.6746 - val_loss: 99.8630 - val_acc: 0.7915\n",
      "Epoch 5/30\n",
      "125/125 [==============================] - 0s 2ms/step - loss: 88.8836 - acc: 0.6753 - val_loss: 22.0296 - val_acc: 0.7820\n",
      "Epoch 6/30\n",
      "125/125 [==============================] - 0s 3ms/step - loss: 54.2569 - acc: 0.6736 - val_loss: 33.4117 - val_acc: 0.2765\n",
      "Epoch 7/30\n",
      "125/125 [==============================] - 0s 2ms/step - loss: 39.8489 - acc: 0.6737 - val_loss: 57.0900 - val_acc: 0.7915\n",
      "Epoch 8/30\n",
      "125/125 [==============================] - 0s 2ms/step - loss: 58.8521 - acc: 0.7017 - val_loss: 18.2780 - val_acc: 0.7820\n",
      "Epoch 9/30\n",
      "125/125 [==============================] - 0s 2ms/step - loss: 50.6032 - acc: 0.6906 - val_loss: 140.4444 - val_acc: 0.7910\n",
      "Epoch 10/30\n",
      "125/125 [==============================] - 0s 2ms/step - loss: 61.9777 - acc: 0.6770 - val_loss: 35.2267 - val_acc: 0.5875\n",
      "Epoch 11/30\n",
      "125/125 [==============================] - 0s 2ms/step - loss: 55.7451 - acc: 0.6594 - val_loss: 195.8174 - val_acc: 0.7915\n",
      "Epoch 12/30\n",
      "125/125 [==============================] - 0s 2ms/step - loss: 84.1086 - acc: 0.6946 - val_loss: 36.4541 - val_acc: 0.7910\n",
      "Epoch 13/30\n",
      "125/125 [==============================] - 0s 2ms/step - loss: 71.2285 - acc: 0.6775 - val_loss: 11.2675 - val_acc: 0.7690\n",
      "Epoch 14/30\n",
      "125/125 [==============================] - 0s 2ms/step - loss: 48.9386 - acc: 0.6767 - val_loss: 39.9365 - val_acc: 0.7910\n",
      "Epoch 15/30\n",
      "125/125 [==============================] - 0s 2ms/step - loss: 32.6942 - acc: 0.6950 - val_loss: 37.2438 - val_acc: 0.2815\n",
      "Epoch 16/30\n",
      "125/125 [==============================] - 0s 2ms/step - loss: 44.4123 - acc: 0.6735 - val_loss: 6.1931 - val_acc: 0.7060\n",
      "Epoch 17/30\n",
      "125/125 [==============================] - 0s 2ms/step - loss: 47.4489 - acc: 0.6772 - val_loss: 18.3196 - val_acc: 0.4735\n",
      "Epoch 18/30\n",
      "125/125 [==============================] - 0s 2ms/step - loss: 72.9960 - acc: 0.7014 - val_loss: 50.7262 - val_acc: 0.7910\n",
      "Epoch 19/30\n",
      "125/125 [==============================] - 0s 2ms/step - loss: 51.6600 - acc: 0.6965 - val_loss: 33.9489 - val_acc: 0.7885\n",
      "Epoch 20/30\n",
      "125/125 [==============================] - 0s 2ms/step - loss: 39.8813 - acc: 0.6910 - val_loss: 21.7669 - val_acc: 0.7870\n",
      "Epoch 21/30\n",
      "125/125 [==============================] - 0s 2ms/step - loss: 44.1888 - acc: 0.6716 - val_loss: 135.6547 - val_acc: 0.4680\n",
      "Epoch 22/30\n",
      "125/125 [==============================] - 0s 2ms/step - loss: 70.8130 - acc: 0.6890 - val_loss: 40.7607 - val_acc: 0.7885\n",
      "Epoch 23/30\n",
      "125/125 [==============================] - 0s 2ms/step - loss: 46.5264 - acc: 0.7102 - val_loss: 7.8199 - val_acc: 0.5270\n",
      "Epoch 24/30\n",
      "125/125 [==============================] - 0s 2ms/step - loss: 33.7183 - acc: 0.6827 - val_loss: 17.5213 - val_acc: 0.7840\n",
      "Epoch 25/30\n",
      "125/125 [==============================] - 0s 2ms/step - loss: 47.4941 - acc: 0.6973 - val_loss: 7.7444 - val_acc: 0.5645\n",
      "Epoch 26/30\n",
      "125/125 [==============================] - 0s 2ms/step - loss: 31.3274 - acc: 0.6815 - val_loss: 52.4504 - val_acc: 0.7910\n",
      "Epoch 27/30\n",
      "125/125 [==============================] - 0s 2ms/step - loss: 37.3263 - acc: 0.6943 - val_loss: 15.2895 - val_acc: 0.7865\n",
      "Epoch 28/30\n",
      "125/125 [==============================] - 0s 3ms/step - loss: 33.8601 - acc: 0.6875 - val_loss: 24.4992 - val_acc: 0.7915\n",
      "Epoch 29/30\n",
      "125/125 [==============================] - 0s 3ms/step - loss: 23.9720 - acc: 0.6975 - val_loss: 40.0513 - val_acc: 0.4745\n",
      "Epoch 30/30\n",
      "125/125 [==============================] - 0s 2ms/step - loss: 43.3716 - acc: 0.6729 - val_loss: 151.0601 - val_acc: 0.7905\n"
     ]
    }
   ],
   "source": [
    "history=ann.fit(X_train,y_train,epochs=30,batch_size=64,validation_data=(X_test,y_test))#epochs指定轮次"
   ]
  },
  {
   "cell_type": "code",
   "execution_count": 37,
   "id": "floral-jones",
   "metadata": {},
   "outputs": [],
   "source": [
    "#为了避免输出向上面一行代码那样给出30轮每一轮的信息，可以把这些信息转换成学习曲线\n",
    "def show_history(history):\n",
    "    loss=history.history['loss']\n",
    "    val_loss=history.history['val_loss']\n",
    "    epochs=range(1,len(loss)+1)\n",
    "    plt.figure(figsize=(12,4))\n",
    "    plt.subplot(1,2,1)\n",
    "    plt.plot(epochs,loss,'go',label='Training loss')\n",
    "    plt.plot(epochs,val_loss,'g',label='Validation loss')\n",
    "    plt.title('Training and validation loss')\n",
    "    plt.xlabel('Epochs')\n",
    "    plt.ylabel('Loss')\n",
    "    plt.legend()\n",
    "    acc=history.history['acc']\n",
    "    val_acc=history.history['val_acc']\n",
    "    plt.subplot(1,2,2)\n",
    "    plt.plot(epochs,acc,'bo',label='Training acc')\n",
    "    plt.plot(epochs,val_acc,'b',label='Validation acc')\n",
    "    plt.title('Training and validation accuracy')\n",
    "    plt.xlabel('Epochs')\n",
    "    plt.ylabel('Accuracy')\n",
    "    plt.legend()\n",
    "    plt.show()"
   ]
  },
  {
   "cell_type": "code",
   "execution_count": 38,
   "id": "efficient-cream",
   "metadata": {},
   "outputs": [
    {
     "data": {
      "image/png": "[encoded data removed]",
      "text/plain": [
       "<Figure size 864x288 with 2 Axes>"
      ]
     },
     "metadata": {
      "needs_background": "light"
     },
     "output_type": "display_data"
    }
   ],
   "source": [
    "show_history(history)"
   ]
  },
  {
   "cell_type": "code",
   "execution_count": null,
   "id": "documentary-dayton",
   "metadata": {},
   "outputs": [],
   "source": []
  },
  {
   "cell_type": "markdown",
   "id": "sufficient-auckland",
   "metadata": {},
   "source": [
    "## 5.5 分类数据不平衡问题：只看准确率够用吗"
   ]
  },
  {
   "cell_type": "markdown",
   "id": "waiting-software",
   "metadata": {},
   "source": [
    "* Confusion matrix\n",
    "    * True negative (TN)\n",
    "    * False Positive (FP)\n",
    "    * False Negative (FN)\n",
    "    * True Positive (TP)\n",
    "\n",
    "精确率(查准率）：\n",
    "$$Precision=\\frac{TP}{TP+FP}=\\frac{TP}{Total\\ Predicted\\ Positive}$$\n",
    "召回率（查全率）：\n",
    "$$Recall = \\frac{TP}{TP+FP}=\\frac{TP}{Total\\ True\\ Positive}$$\n",
    "F1 Score:\n",
    "$$F1=2\\cdot\\frac{Precision \\cdot Recall}{Precision + Recall}$$\n"
   ]
  },
  {
   "cell_type": "code",
   "execution_count": 41,
   "id": "defined-dryer",
   "metadata": {},
   "outputs": [
    {
     "name": "stdout",
     "output_type": "stream",
     "text": [
      "              precision    recall  f1-score   support\n",
      "\n",
      "           0       0.79      1.00      0.88      1583\n",
      "           1       0.38      0.01      0.01       417\n",
      "\n",
      "    accuracy                           0.79      2000\n",
      "   macro avg       0.58      0.50      0.45      2000\n",
      "weighted avg       0.71      0.79      0.70      2000\n",
      "\n"
     ]
    }
   ],
   "source": [
    "#用neutral network中的predict方法来预测测试集的分类标签，然后把真值和预测值进行比较，并利用sklearn package 的classification计算上面式子\n",
    "from sklearn.metrics import classification_report\n",
    "y_pred=ann.predict(X_test,batch_size=10)\n",
    "y_pred=np.around(y_pred)#四舍五入，将分类概率值转换成0/1整数值\n",
    "y_test=y_test.values #将pandas里面的series转换成numpy中的array\n",
    "y_test=y_test.reshape((len(y_test),1))#目的是和y_pred相同的形状\n",
    "print(classification_report(y_test,y_pred,labels=[0,1]))"
   ]
  },
  {
   "cell_type": "code",
   "execution_count": 42,
   "id": "expired-jewelry",
   "metadata": {
    "scrolled": true
   },
   "outputs": [
    {
     "data": {
      "image/png": "[encoded data removed]",
      "text/plain": [
       "<Figure size 432x288 with 1 Axes>"
      ]
     },
     "metadata": {
      "needs_background": "light"
     },
     "output_type": "display_data"
    }
   ],
   "source": [
    "#画出混淆矩阵\n",
    "from sklearn.metrics import confusion_matrix\n",
    "cm=confusion_matrix(y_test,y_pred)\n",
    "plt.title('ANN Confusion Matrix')\n",
    "sns.heatmap(cm,annot=True,cmap='Blues',fmt='d',cbar=False)\n",
    "#annot: bool or rectangular datasets, if true: write the datasets\n",
    "#fmt:String formatting code to use when adding annotations.\n",
    "plt.show()\n"
   ]
  },
  {
   "cell_type": "markdown",
   "id": "medical-bunch",
   "metadata": {},
   "source": [
    "***特征缩放(Feature Scaling)***对于神经网络来说特别重要！\n",
    "对数据进行标准化，主要是先减去mean, 在除以std.\n",
    "\n",
    "或者也可以采用sklearn.prepocessing中的StandardScaler来进行缩放\n"
   ]
  },
  {
   "cell_type": "code",
   "execution_count": 43,
   "id": "brazilian-promotion",
   "metadata": {},
   "outputs": [],
   "source": [
    "from sklearn.preprocessing import StandardScaler\n",
    "sc=StandardScaler()\n",
    "X_train=sc.fit_transform(X_train)\n",
    "X_test=sc.transform(X_test)"
   ]
  },
  {
   "cell_type": "code",
   "execution_count": 45,
   "id": "damaged-latin",
   "metadata": {},
   "outputs": [
    {
     "data": {
      "text/plain": [
       "dtype('float64')"
      ]
     },
     "execution_count": 45,
     "metadata": {},
     "output_type": "execute_result"
    }
   ],
   "source": [
    "X_test.dtype"
   ]
  },
  {
   "cell_type": "code",
   "execution_count": 46,
   "id": "statistical-pierre",
   "metadata": {},
   "outputs": [
    {
     "name": "stdout",
     "output_type": "stream",
     "text": [
      "逻辑回归预测准确率80.50%\n"
     ]
    }
   ],
   "source": [
    "#测试缩放后，效果有什么不同，先进行logisticregression方式\n",
    "from sklearn.linear_model import LogisticRegression\n",
    "lr=LogisticRegression()\n",
    "history=lr.fit(X_train,y_train)\n",
    "print('逻辑回归预测准确率{:.2f}%'.format(lr.score(X_test,y_test)*100))"
   ]
  },
  {
   "cell_type": "code",
   "execution_count": 51,
   "id": "spiritual-desperate",
   "metadata": {},
   "outputs": [
    {
     "name": "stdout",
     "output_type": "stream",
     "text": [
      "Epoch 1/30\n",
      "125/125 [==============================] - 1s 6ms/step - loss: 0.4776 - acc: 0.7943 - val_loss: 0.4692 - val_acc: 0.7925\n",
      "Epoch 2/30\n",
      "125/125 [==============================] - 0s 3ms/step - loss: 0.4598 - acc: 0.7976 - val_loss: 0.4607 - val_acc: 0.7920\n",
      "Epoch 3/30\n",
      "125/125 [==============================] - 0s 3ms/step - loss: 0.4521 - acc: 0.7983 - val_loss: 0.4515 - val_acc: 0.7905\n",
      "Epoch 4/30\n",
      "125/125 [==============================] - 0s 3ms/step - loss: 0.4384 - acc: 0.8024 - val_loss: 0.4333 - val_acc: 0.8050\n",
      "Epoch 5/30\n",
      "125/125 [==============================] - 0s 3ms/step - loss: 0.4193 - acc: 0.8180 - val_loss: 0.4165 - val_acc: 0.8175\n",
      "Epoch 6/30\n",
      "125/125 [==============================] - 0s 3ms/step - loss: 0.4053 - acc: 0.8249 - val_loss: 0.4060 - val_acc: 0.8215\n",
      "Epoch 7/30\n",
      "125/125 [==============================] - 0s 3ms/step - loss: 0.3959 - acc: 0.8317 - val_loss: 0.4008 - val_acc: 0.8240\n",
      "Epoch 8/30\n",
      "125/125 [==============================] - 0s 3ms/step - loss: 0.3895 - acc: 0.8347 - val_loss: 0.3936 - val_acc: 0.8295\n",
      "Epoch 9/30\n",
      "125/125 [==============================] - 0s 3ms/step - loss: 0.3836 - acc: 0.8390 - val_loss: 0.3890 - val_acc: 0.8335\n",
      "Epoch 10/30\n",
      "125/125 [==============================] - 0s 3ms/step - loss: 0.3785 - acc: 0.8404 - val_loss: 0.3861 - val_acc: 0.8345\n",
      "Epoch 11/30\n",
      "125/125 [==============================] - 0s 3ms/step - loss: 0.3742 - acc: 0.8432 - val_loss: 0.3821 - val_acc: 0.8380\n",
      "Epoch 12/30\n",
      "125/125 [==============================] - 0s 3ms/step - loss: 0.3706 - acc: 0.8446 - val_loss: 0.3789 - val_acc: 0.8420\n",
      "Epoch 13/30\n",
      "125/125 [==============================] - 1s 4ms/step - loss: 0.3671 - acc: 0.8453 - val_loss: 0.3778 - val_acc: 0.8395\n",
      "Epoch 14/30\n",
      "125/125 [==============================] - 1s 4ms/step - loss: 0.3644 - acc: 0.8487 - val_loss: 0.3758 - val_acc: 0.8420\n",
      "Epoch 15/30\n",
      "125/125 [==============================] - 1s 5ms/step - loss: 0.3626 - acc: 0.8495 - val_loss: 0.3726 - val_acc: 0.8465\n",
      "Epoch 16/30\n",
      "125/125 [==============================] - 1s 4ms/step - loss: 0.3605 - acc: 0.8526 - val_loss: 0.3718 - val_acc: 0.8480\n",
      "Epoch 17/30\n",
      "125/125 [==============================] - 0s 4ms/step - loss: 0.3590 - acc: 0.8525 - val_loss: 0.3713 - val_acc: 0.8450\n",
      "Epoch 18/30\n",
      "125/125 [==============================] - 1s 4ms/step - loss: 0.3577 - acc: 0.8539 - val_loss: 0.3700 - val_acc: 0.8455\n",
      "Epoch 19/30\n",
      "125/125 [==============================] - 0s 4ms/step - loss: 0.3566 - acc: 0.8510 - val_loss: 0.3697 - val_acc: 0.8460\n",
      "Epoch 20/30\n",
      "125/125 [==============================] - 1s 4ms/step - loss: 0.3554 - acc: 0.8541 - val_loss: 0.3681 - val_acc: 0.8455\n",
      "Epoch 21/30\n",
      "125/125 [==============================] - 1s 4ms/step - loss: 0.3543 - acc: 0.8551 - val_loss: 0.3670 - val_acc: 0.8460\n",
      "Epoch 22/30\n",
      "125/125 [==============================] - 1s 4ms/step - loss: 0.3537 - acc: 0.8540 - val_loss: 0.3659 - val_acc: 0.8465\n",
      "Epoch 23/30\n",
      "125/125 [==============================] - 0s 4ms/step - loss: 0.3528 - acc: 0.8533 - val_loss: 0.3655 - val_acc: 0.8475\n",
      "Epoch 24/30\n",
      "125/125 [==============================] - 0s 4ms/step - loss: 0.3522 - acc: 0.8528 - val_loss: 0.3652 - val_acc: 0.8460\n",
      "Epoch 25/30\n",
      "125/125 [==============================] - 1s 5ms/step - loss: 0.3516 - acc: 0.8540 - val_loss: 0.3635 - val_acc: 0.8495\n",
      "Epoch 26/30\n",
      "125/125 [==============================] - 1s 4ms/step - loss: 0.3508 - acc: 0.8554 - val_loss: 0.3645 - val_acc: 0.8445\n",
      "Epoch 27/30\n",
      "125/125 [==============================] - 1s 4ms/step - loss: 0.3501 - acc: 0.8550 - val_loss: 0.3663 - val_acc: 0.8455\n",
      "Epoch 28/30\n",
      "125/125 [==============================] - 1s 4ms/step - loss: 0.3502 - acc: 0.8556 - val_loss: 0.3621 - val_acc: 0.8505\n",
      "Epoch 29/30\n",
      "125/125 [==============================] - 1s 5ms/step - loss: 0.3493 - acc: 0.8537 - val_loss: 0.3627 - val_acc: 0.8500\n",
      "Epoch 30/30\n",
      "125/125 [==============================] - 1s 5ms/step - loss: 0.3483 - acc: 0.8546 - val_loss: 0.3622 - val_acc: 0.8485\n"
     ]
    }
   ],
   "source": [
    "history=ann.fit(X_train,y_train,epochs=30,batch_size=64,\n",
    "                validation_data=(X_test, y_test))"
   ]
  },
  {
   "cell_type": "code",
   "execution_count": 52,
   "id": "jewish-article",
   "metadata": {},
   "outputs": [
    {
     "data": {
      "image/png": "[encoded data removed]",
      "text/plain": [
       "<Figure size 864x288 with 2 Axes>"
      ]
     },
     "metadata": {
      "needs_background": "light"
     },
     "output_type": "display_data"
    }
   ],
   "source": [
    "show_history(history)"
   ]
  },
  {
   "cell_type": "code",
   "execution_count": null,
   "id": "challenging-victorian",
   "metadata": {},
   "outputs": [],
   "source": []
  },
  {
   "cell_type": "markdown",
   "id": "third-limitation",
   "metadata": {},
   "source": [
    "## 5.6从单隐层神经网络到深度神经网络"
   ]
  },
  {
   "cell_type": "markdown",
   "id": "accepted-running",
   "metadata": {},
   "source": [
    "深度神经网络的梯度下降和参数优化过程是通过**优化器**来实现的，其中包括**正向传播（Forward Propagation)**, 以及**反向传播（Back Propagation, BP)**\n",
    "\n",
    "正向传播：从数据的输入，一层一层进行输入和输出传递，直到得到最后一层的预测结果，然后计算损失值的过程\n",
    "\n",
    "反向传播：反向计算偏微分，信息会从神经网络的高层向底层反向传播，并在这个过程中根据输出来调整权重。"
   ]
  },
  {
   "cell_type": "markdown",
   "id": "sitting-possession",
   "metadata": {},
   "source": [
    "* 各种优化器的特点\n",
    "    * 批量梯度下降（Batch Gradient Descent, BGD)：\\\n",
    "        通过拆分成小批量，来通过向量化计算方式进行处理\n",
    "    * 随机梯度下降 (Stochastic Gradient Descent, SGD):\\\n",
    "        随机选择一个样本来更新模型参数--每轮次的学习速度非常快，但是所需更新的轮次也特别多。通过keras.optimizers.SGD来调用\n",
    "    * 小批量随机梯度下降（Mini-Batch Gradient Descent, MBGD):\\\n",
    "        在更新速度和更新轮次中间取得了一个平衡。\n",
    "    * 动量SGD: \\\n",
    "        更新参数w时不仅要考虑当前的梯度，还要考虑上一次的参数更新\n",
    "    * 上坡时减少动量————NAG(Nesterov Accelerated Gradient):\\\n",
    "        下坡加动量，上坡减少动量\n",
    "    * 各参数不同的学习速率———Adagrad(Adaptive Gradient):\\\n",
    "        不同的参数拥有不同的学习速率，通过keras.optimizers.adagrad()来调用。Adagrad有一个类似的变体叫Ada Delta， 就是在每次迭代时用梯度实时构造参数的更新值。\n",
    "    * 加权平均值计算二阶动量——RMSProp(Root Mean Square Propogation):\\\n",
    "        目的是解决Adagrad学习速率有时急剧下降的问题。采用窗口滑动加权平均值计算二阶动量。通过keras.optimizers.RMSprop()来调用\n",
    "    * 多钟优化思路的集大成者——Adam（Adaptive Moment Estimation，相当于Adaptive+Momentum)\n",
    "    * Nesterov Adam Optimizer（Nadam)——结合Adam+Nesterov Momentum. \n",
    "        \n",
    "    "
   ]
  },
  {
   "cell_type": "markdown",
   "id": "superior-marble",
   "metadata": {},
   "source": [
    "* **激活函数**（在逻辑回归中，输入的特征通过加权、求和后，还将通过一个sigmoid逻辑函数讲线性回归值压缩在[0,1]区间，以体现概率值：\n",
    "    * 可以理解为神经网络从线性变换到非线性变换的过程。\n",
    "    \n"
   ]
  },
  {
   "cell_type": "markdown",
   "id": "amended-nerve",
   "metadata": {},
   "source": [
    "* 激活函数种类：\n",
    "    * Sigmoid 函数：\\\n",
    "        缺点：会出现梯度消失(gradient Vanishing)\n",
    "    * Tanh 函数（可以将连续实数映射到[-1,1]区间）：\n",
    "        $$f(z)=tanh(z)=\\frac{e^z-e^{-z}}{e^z+e^{-z}}$$\n",
    "    * Re LU 函数（Rectified Linear Unit):\\\n",
    "        特点是单侧抑制，当输入信号小于等于0时，输出是0；当输入信号大于0时，输出等于输入。\n",
    "        $$f(z)=\\max(0,z)$$\n",
    "        注意：使用Re Lu时，学习速率绝对不能设的太大，因为那样会‘杀死’网络中的很多神经元。\n",
    "    * Leaky Re LU和PRe LU:\n",
    "        $$f(z)=\\max(\\epsilon z,z)$$\n",
    "        \n",
    "    * e LU 函数：\n",
    "    $$f(z)=z, \\ if z\\geq0$$\n",
    "    $$f(z)=\\epsilon(e^z-1),\\ if z<0$$\n",
    "        \n",
    "        "
   ]
  },
  {
   "cell_type": "code",
   "execution_count": null,
   "id": "statewide-witness",
   "metadata": {},
   "outputs": [],
   "source": []
  }
 ],
 "metadata": {
  "kernelspec": {
   "display_name": "Python 3",
   "language": "python",
   "name": "python3"
  },
  "language_info": {
   "codemirror_mode": {
    "name": "ipython",
    "version": 3
   },
   "file_extension": ".py",
   "mimetype": "text/x-python",
   "name": "python",
   "nbconvert_exporter": "python",
   "pygments_lexer": "ipython3",
   "version": "3.7.3"
  }
 },
 "nbformat": 4,
 "nbformat_minor": 5
}
