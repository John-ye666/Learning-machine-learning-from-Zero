{
 "cells": [
  {
   "cell_type": "markdown",
   "id": "dense-messaging",
   "metadata": {},
   "source": [
    "# Chapter 5 深度神经网络-找出可能流失的客户"
   ]
  },
  {
   "cell_type": "markdown",
   "id": "essential-collaboration",
   "metadata": {},
   "source": [
    "* 数据类型：\n",
    "    * 结构化数据：有预先定义好的结构\n",
    "    * 非结构化数据：没有什么预定义的数据结构，不方便用数据库存储，也不方便用Excel表格来表现的数据。\n",
    "    \n",
    "    \n",
    "比如判断哪张照片属于什么类型就是非结构数据（也称感知类数据，人脑可以毫不费力的识别，但是计算机不行）\\\n",
    "**维度灾难**：高维度带来了超高的复杂度和超巨大的特征空间。\\\n",
    "神经网络的原理和线性回归或者逻辑回归相同---通过不断训练找出最佳参数！\n",
    "\n",
    "***深度学习机理***： 用一串一串函数（层）不断堆叠起来，作用于输入数据，进行从原始数据到分类结果的过滤和提纯。\n",
    "\n",
    "学习：就是为了神经网络的每一个层中的每个神经元寻找最佳的权重。\n",
    "\n",
    "\n",
    "知识：学到的权重。\n",
    "    "
   ]
  },
  {
   "cell_type": "markdown",
   "id": "instrumental-portable",
   "metadata": {},
   "source": [
    "## 5.3 从感知器到单隐层网络"
   ]
  },
  {
   "cell_type": "code",
   "execution_count": null,
   "id": "anticipated-river",
   "metadata": {},
   "outputs": [],
   "source": []
  }
 ],
 "metadata": {
  "kernelspec": {
   "display_name": "Python 3",
   "language": "python",
   "name": "python3"
  },
  "language_info": {
   "codemirror_mode": {
    "name": "ipython",
    "version": 3
   },
   "file_extension": ".py",
   "mimetype": "text/x-python",
   "name": "python",
   "nbconvert_exporter": "python",
   "pygments_lexer": "ipython3",
   "version": "3.7.3"
  }
 },
 "nbformat": 4,
 "nbformat_minor": 5
}
