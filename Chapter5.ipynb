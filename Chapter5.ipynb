{
 "cells": [
  {
   "cell_type": "markdown",
   "id": "dense-messaging",
   "metadata": {},
   "source": [
    "# Chapter 5 深度神经网络-找出可能流失的客户"
   ]
  },
  {
   "cell_type": "markdown",
   "id": "essential-collaboration",
   "metadata": {},
   "source": [
    "* 数据类型：\n",
    "    * 结构化数据：有预先定义好的结构\n",
    "    * 非结构化数据：没有什么预定义的数据结构，不方便用数据库存储，也不方便用Excel表格来表现的数据。\n",
    "    \n",
    "    \n",
    "比如判断哪张照片属于什么类型就是非结构数据（也称感知类数据，人脑可以毫不费力的识别，但是计算机不行）\\\n",
    "**维度灾难**：高维度带来了超高的复杂度和超巨大的特征空间。\\\n",
    "神经网络的原理和线性回归或者逻辑回归相同---通过不断训练找出最佳参数！\n",
    "\n",
    "***深度学习机理***： 用一串一串函数（层）不断堆叠起来，作用于输入数据，进行从原始数据到分类结果的过滤和提纯。\n",
    "\n",
    "学习：就是为了神经网络的每一个层中的每个神经元寻找最佳的权重。\n",
    "\n",
    "\n",
    "知识：学到的权重。\n",
    "    "
   ]
  },
  {
   "cell_type": "markdown",
   "id": "instrumental-portable",
   "metadata": {},
   "source": [
    "## 5.3 从感知器到单隐层网络"
   ]
  },
  {
   "cell_type": "markdown",
   "id": "resistant-platinum",
   "metadata": {},
   "source": [
    "**Sigmoid函数**在逻辑回归中叫逻辑函数，在神经网络中则成为激活函数，用以类比人类神经系统中神经元的‘激活’过程。\n",
    "\n",
    "* 输入空间：x\n",
    "* 输出空间：y, actually y is less than x\n",
    "* 特征空间： 每一个样本被称作一个实例，通常由特征向量表示，所有特征向量存在的空间被称为***特征空间***。 特征空间有时与输入空间相同，有时不同。因为有时候经过特征工程之后，输入空间可通过某种映射生成新的特征空间。\n",
    "* 假设空间：一般是对学习到的模型（函数）而言的。模型表达了输入到输出的一种映射集合，这个集合就是假设空间。假设空间代表着模型学习过程中能够覆盖的最大范围。\n"
   ]
  },
  {
   "cell_type": "markdown",
   "id": "fluid-classroom",
   "metadata": {},
   "source": [
    "**神经网络的上下标符号规则**：$w_{2.2}^{[1]}$中，*上*标的数字代表第几层，*下*标的数字有两个，第一个代表权重属于哪一个特征，即特征的维度；第二个代表其所连接到的下层神经元的维度。"
   ]
  },
  {
   "cell_type": "markdown",
   "id": "pleased-stewart",
   "metadata": {},
   "source": [
    "## 5.4 用Keras单隐层网络预测客户流失率"
   ]
  },
  {
   "cell_type": "code",
   "execution_count": 1,
   "id": "several-taste",
   "metadata": {},
   "outputs": [],
   "source": [
    "import numpy as np\n",
    "import pandas as pd\n",
    "import matplotlib.pyplot as plt\n",
    "import seaborn as sns\n"
   ]
  },
  {
   "cell_type": "code",
   "execution_count": 2,
   "id": "undefined-abraham",
   "metadata": {},
   "outputs": [
    {
     "data": {
      "text/html": [
       "<div>\n",
       "<style scoped>\n",
       "    .dataframe tbody tr th:only-of-type {\n",
       "        vertical-align: middle;\n",
       "    }\n",
       "\n",
       "    .dataframe tbody tr th {\n",
       "        vertical-align: top;\n",
       "    }\n",
       "\n",
       "    .dataframe thead th {\n",
       "        text-align: right;\n",
       "    }\n",
       "</style>\n",
       "<table border=\"1\" class=\"dataframe\">\n",
       "  <thead>\n",
       "    <tr style=\"text-align: right;\">\n",
       "      <th></th>\n",
       "      <th>Name</th>\n",
       "      <th>Gender</th>\n",
       "      <th>Age</th>\n",
       "      <th>City</th>\n",
       "      <th>Tenure</th>\n",
       "      <th>ProductsNo</th>\n",
       "      <th>HasCard</th>\n",
       "      <th>ActiveMember</th>\n",
       "      <th>Credit</th>\n",
       "      <th>AccountBal</th>\n",
       "      <th>Salary</th>\n",
       "      <th>Exited</th>\n",
       "    </tr>\n",
       "  </thead>\n",
       "  <tbody>\n",
       "    <tr>\n",
       "      <th>0</th>\n",
       "      <td>Kan Jian</td>\n",
       "      <td>Female</td>\n",
       "      <td>40</td>\n",
       "      <td>Beijing</td>\n",
       "      <td>9</td>\n",
       "      <td>2</td>\n",
       "      <td>0</td>\n",
       "      <td>1</td>\n",
       "      <td>516</td>\n",
       "      <td>6360.66</td>\n",
       "      <td>0.0000</td>\n",
       "      <td>0</td>\n",
       "    </tr>\n",
       "    <tr>\n",
       "      <th>1</th>\n",
       "      <td>Xue Baochai</td>\n",
       "      <td>Male</td>\n",
       "      <td>69</td>\n",
       "      <td>Beijing</td>\n",
       "      <td>6</td>\n",
       "      <td>2</td>\n",
       "      <td>0</td>\n",
       "      <td>1</td>\n",
       "      <td>682</td>\n",
       "      <td>28605.00</td>\n",
       "      <td>0.0000</td>\n",
       "      <td>0</td>\n",
       "    </tr>\n",
       "    <tr>\n",
       "      <th>2</th>\n",
       "      <td>Mao Xi</td>\n",
       "      <td>Female</td>\n",
       "      <td>32</td>\n",
       "      <td>Beijing</td>\n",
       "      <td>9</td>\n",
       "      <td>1</td>\n",
       "      <td>1</td>\n",
       "      <td>1</td>\n",
       "      <td>803</td>\n",
       "      <td>10378.09</td>\n",
       "      <td>236311.0932</td>\n",
       "      <td>1</td>\n",
       "    </tr>\n",
       "    <tr>\n",
       "      <th>3</th>\n",
       "      <td>Zheng Nengliang</td>\n",
       "      <td>Female</td>\n",
       "      <td>37</td>\n",
       "      <td>Tianjin</td>\n",
       "      <td>0</td>\n",
       "      <td>2</td>\n",
       "      <td>1</td>\n",
       "      <td>1</td>\n",
       "      <td>778</td>\n",
       "      <td>25564.01</td>\n",
       "      <td>129909.8079</td>\n",
       "      <td>1</td>\n",
       "    </tr>\n",
       "    <tr>\n",
       "      <th>4</th>\n",
       "      <td>Zhi Fen</td>\n",
       "      <td>Male</td>\n",
       "      <td>55</td>\n",
       "      <td>Tianjin</td>\n",
       "      <td>4</td>\n",
       "      <td>3</td>\n",
       "      <td>1</td>\n",
       "      <td>0</td>\n",
       "      <td>547</td>\n",
       "      <td>3235.61</td>\n",
       "      <td>136976.1948</td>\n",
       "      <td>1</td>\n",
       "    </tr>\n",
       "  </tbody>\n",
       "</table>\n",
       "</div>"
      ],
      "text/plain": [
       "              Name  Gender  Age     City  Tenure  ProductsNo  HasCard  \\\n",
       "0         Kan Jian  Female   40  Beijing       9           2        0   \n",
       "1      Xue Baochai    Male   69  Beijing       6           2        0   \n",
       "2           Mao Xi  Female   32  Beijing       9           1        1   \n",
       "3  Zheng Nengliang  Female   37  Tianjin       0           2        1   \n",
       "4          Zhi Fen    Male   55  Tianjin       4           3        1   \n",
       "\n",
       "   ActiveMember  Credit  AccountBal       Salary  Exited  \n",
       "0             1     516     6360.66       0.0000       0  \n",
       "1             1     682    28605.00       0.0000       0  \n",
       "2             1     803    10378.09  236311.0932       1  \n",
       "3             1     778    25564.01  129909.8079       1  \n",
       "4             0     547     3235.61  136976.1948       1  "
      ]
     },
     "execution_count": 2,
     "metadata": {},
     "output_type": "execute_result"
    }
   ],
   "source": [
    "df_bank=pd.read_csv('BankCustomer.csv')\n",
    "df_bank.head()"
   ]
  },
  {
   "cell_type": "code",
   "execution_count": 12,
   "id": "dated-malawi",
   "metadata": {},
   "outputs": [
    {
     "data": {
      "image/png": "[encoded data removed]",
      "text/plain": [
       "<Figure size 1080x1080 with 8 Axes>"
      ]
     },
     "metadata": {
      "needs_background": "light"
     },
     "output_type": "display_data"
    }
   ],
   "source": [
    "features=['City','Gender','Age','Tenure','ProductsNo','HasCard','ActiveMember','Exited']\n",
    "fig=plt.subplots(figsize=(15,15))\n",
    "for i,j in enumerate(features):\n",
    "    plt.subplot(4, 2, i+1)\n",
    "    plt.subplots_adjust(hspace=1.0)\n",
    "    sns.countplot(x=j,data = df_bank)\n",
    "    plt.title('No.of Costumers')\n",
    "#这里我之前犯错了了，feature内部的名字，比如ProductsNo中间不要有空格，有空格就会报错！"
   ]
  },
  {
   "cell_type": "markdown",
   "id": "transsexual-consumption",
   "metadata": {},
   "source": [
    "从图中可以看出有三个需要从三个方向上来cleaning data:\n",
    "    \n",
    "    \n",
    "* 性别：female 和male编程0/1代码，因为这属于’格式数据‘，在机器学习中需要转换成数字代码\n",
    "* 城市：是多元类别特征，需要转换为多个二元类别哑变量\n",
    "* 姓名与我们分析的问题无关，忽略掉。\n"
   ]
  },
  {
   "cell_type": "code",
   "execution_count": 14,
   "id": "composed-vault",
   "metadata": {},
   "outputs": [
    {
     "name": "stdout",
     "output_type": "stream",
     "text": [
      "Gender unique values [0 1]\n"
     ]
    }
   ],
   "source": [
    "df_bank['Gender'].replace('Female',0,inplace=True)\n",
    "df_bank['Gender'].replace('Male',1,inplace=True)\n",
    "print('Gender unique values',df_bank['Gender'].unique())"
   ]
  },
  {
   "cell_type": "code",
   "execution_count": 15,
   "id": "certain-puppy",
   "metadata": {},
   "outputs": [
    {
     "data": {
      "text/html": [
       "<div>\n",
       "<style scoped>\n",
       "    .dataframe tbody tr th:only-of-type {\n",
       "        vertical-align: middle;\n",
       "    }\n",
       "\n",
       "    .dataframe tbody tr th {\n",
       "        vertical-align: top;\n",
       "    }\n",
       "\n",
       "    .dataframe thead th {\n",
       "        text-align: right;\n",
       "    }\n",
       "</style>\n",
       "<table border=\"1\" class=\"dataframe\">\n",
       "  <thead>\n",
       "    <tr style=\"text-align: right;\">\n",
       "      <th></th>\n",
       "      <th>Name</th>\n",
       "      <th>Gender</th>\n",
       "      <th>Age</th>\n",
       "      <th>City</th>\n",
       "      <th>Tenure</th>\n",
       "      <th>ProductsNo</th>\n",
       "      <th>HasCard</th>\n",
       "      <th>ActiveMember</th>\n",
       "      <th>Credit</th>\n",
       "      <th>AccountBal</th>\n",
       "      <th>Salary</th>\n",
       "      <th>Exited</th>\n",
       "      <th>City_Beijing</th>\n",
       "      <th>City_Shanghai</th>\n",
       "      <th>City_Tianjin</th>\n",
       "    </tr>\n",
       "  </thead>\n",
       "  <tbody>\n",
       "    <tr>\n",
       "      <th>0</th>\n",
       "      <td>Kan Jian</td>\n",
       "      <td>0</td>\n",
       "      <td>40</td>\n",
       "      <td>Beijing</td>\n",
       "      <td>9</td>\n",
       "      <td>2</td>\n",
       "      <td>0</td>\n",
       "      <td>1</td>\n",
       "      <td>516</td>\n",
       "      <td>6360.66</td>\n",
       "      <td>0.0000</td>\n",
       "      <td>0</td>\n",
       "      <td>1</td>\n",
       "      <td>0</td>\n",
       "      <td>0</td>\n",
       "    </tr>\n",
       "    <tr>\n",
       "      <th>1</th>\n",
       "      <td>Xue Baochai</td>\n",
       "      <td>1</td>\n",
       "      <td>69</td>\n",
       "      <td>Beijing</td>\n",
       "      <td>6</td>\n",
       "      <td>2</td>\n",
       "      <td>0</td>\n",
       "      <td>1</td>\n",
       "      <td>682</td>\n",
       "      <td>28605.00</td>\n",
       "      <td>0.0000</td>\n",
       "      <td>0</td>\n",
       "      <td>1</td>\n",
       "      <td>0</td>\n",
       "      <td>0</td>\n",
       "    </tr>\n",
       "    <tr>\n",
       "      <th>2</th>\n",
       "      <td>Mao Xi</td>\n",
       "      <td>0</td>\n",
       "      <td>32</td>\n",
       "      <td>Beijing</td>\n",
       "      <td>9</td>\n",
       "      <td>1</td>\n",
       "      <td>1</td>\n",
       "      <td>1</td>\n",
       "      <td>803</td>\n",
       "      <td>10378.09</td>\n",
       "      <td>236311.0932</td>\n",
       "      <td>1</td>\n",
       "      <td>1</td>\n",
       "      <td>0</td>\n",
       "      <td>0</td>\n",
       "    </tr>\n",
       "    <tr>\n",
       "      <th>3</th>\n",
       "      <td>Zheng Nengliang</td>\n",
       "      <td>0</td>\n",
       "      <td>37</td>\n",
       "      <td>Tianjin</td>\n",
       "      <td>0</td>\n",
       "      <td>2</td>\n",
       "      <td>1</td>\n",
       "      <td>1</td>\n",
       "      <td>778</td>\n",
       "      <td>25564.01</td>\n",
       "      <td>129909.8079</td>\n",
       "      <td>1</td>\n",
       "      <td>0</td>\n",
       "      <td>0</td>\n",
       "      <td>1</td>\n",
       "    </tr>\n",
       "    <tr>\n",
       "      <th>4</th>\n",
       "      <td>Zhi Fen</td>\n",
       "      <td>1</td>\n",
       "      <td>55</td>\n",
       "      <td>Tianjin</td>\n",
       "      <td>4</td>\n",
       "      <td>3</td>\n",
       "      <td>1</td>\n",
       "      <td>0</td>\n",
       "      <td>547</td>\n",
       "      <td>3235.61</td>\n",
       "      <td>136976.1948</td>\n",
       "      <td>1</td>\n",
       "      <td>0</td>\n",
       "      <td>0</td>\n",
       "      <td>1</td>\n",
       "    </tr>\n",
       "  </tbody>\n",
       "</table>\n",
       "</div>"
      ],
      "text/plain": [
       "              Name  Gender  Age     City  Tenure  ProductsNo  HasCard  \\\n",
       "0         Kan Jian       0   40  Beijing       9           2        0   \n",
       "1      Xue Baochai       1   69  Beijing       6           2        0   \n",
       "2           Mao Xi       0   32  Beijing       9           1        1   \n",
       "3  Zheng Nengliang       0   37  Tianjin       0           2        1   \n",
       "4          Zhi Fen       1   55  Tianjin       4           3        1   \n",
       "\n",
       "   ActiveMember  Credit  AccountBal       Salary  Exited  City_Beijing  \\\n",
       "0             1     516     6360.66       0.0000       0             1   \n",
       "1             1     682    28605.00       0.0000       0             1   \n",
       "2             1     803    10378.09  236311.0932       1             1   \n",
       "3             1     778    25564.01  129909.8079       1             0   \n",
       "4             0     547     3235.61  136976.1948       1             0   \n",
       "\n",
       "   City_Shanghai  City_Tianjin  \n",
       "0              0             0  \n",
       "1              0             0  \n",
       "2              0             0  \n",
       "3              0             1  \n",
       "4              0             1  "
      ]
     },
     "execution_count": 15,
     "metadata": {},
     "output_type": "execute_result"
    }
   ],
   "source": [
    "#对城市方面做data cleaning:转二元变量，然后再放回原始数据集\n",
    "d_city=pd.get_dummies(df_bank['City'],prefix='City')\n",
    "df_bank=[df_bank,d_city]#put bank to the data\n",
    "df_bank=pd.concat(df_bank,axis=1)#axis=1表示横向对齐。\n",
    "df_bank.head()"
   ]
  },
  {
   "cell_type": "markdown",
   "id": "speaking-purse",
   "metadata": {},
   "source": [
    "关于pd.concat（数据的合并与重塑）见这里：[pd.concat中问](https://blog.csdn.net/stevenkwong/article/details/52528616),非常好的中文说明！"
   ]
  },
  {
   "cell_type": "code",
   "execution_count": 17,
   "id": "higher-beach",
   "metadata": {},
   "outputs": [
    {
     "data": {
      "text/html": [
       "<div>\n",
       "<style scoped>\n",
       "    .dataframe tbody tr th:only-of-type {\n",
       "        vertical-align: middle;\n",
       "    }\n",
       "\n",
       "    .dataframe tbody tr th {\n",
       "        vertical-align: top;\n",
       "    }\n",
       "\n",
       "    .dataframe thead th {\n",
       "        text-align: right;\n",
       "    }\n",
       "</style>\n",
       "<table border=\"1\" class=\"dataframe\">\n",
       "  <thead>\n",
       "    <tr style=\"text-align: right;\">\n",
       "      <th></th>\n",
       "      <th>Gender</th>\n",
       "      <th>Age</th>\n",
       "      <th>Tenure</th>\n",
       "      <th>ProductsNo</th>\n",
       "      <th>HasCard</th>\n",
       "      <th>ActiveMember</th>\n",
       "      <th>Credit</th>\n",
       "      <th>AccountBal</th>\n",
       "      <th>Salary</th>\n",
       "      <th>City_Beijing</th>\n",
       "      <th>City_Shanghai</th>\n",
       "      <th>City_Tianjin</th>\n",
       "    </tr>\n",
       "  </thead>\n",
       "  <tbody>\n",
       "    <tr>\n",
       "      <th>0</th>\n",
       "      <td>0</td>\n",
       "      <td>40</td>\n",
       "      <td>9</td>\n",
       "      <td>2</td>\n",
       "      <td>0</td>\n",
       "      <td>1</td>\n",
       "      <td>516</td>\n",
       "      <td>6360.66</td>\n",
       "      <td>0.0000</td>\n",
       "      <td>1</td>\n",
       "      <td>0</td>\n",
       "      <td>0</td>\n",
       "    </tr>\n",
       "    <tr>\n",
       "      <th>1</th>\n",
       "      <td>1</td>\n",
       "      <td>69</td>\n",
       "      <td>6</td>\n",
       "      <td>2</td>\n",
       "      <td>0</td>\n",
       "      <td>1</td>\n",
       "      <td>682</td>\n",
       "      <td>28605.00</td>\n",
       "      <td>0.0000</td>\n",
       "      <td>1</td>\n",
       "      <td>0</td>\n",
       "      <td>0</td>\n",
       "    </tr>\n",
       "    <tr>\n",
       "      <th>2</th>\n",
       "      <td>0</td>\n",
       "      <td>32</td>\n",
       "      <td>9</td>\n",
       "      <td>1</td>\n",
       "      <td>1</td>\n",
       "      <td>1</td>\n",
       "      <td>803</td>\n",
       "      <td>10378.09</td>\n",
       "      <td>236311.0932</td>\n",
       "      <td>1</td>\n",
       "      <td>0</td>\n",
       "      <td>0</td>\n",
       "    </tr>\n",
       "    <tr>\n",
       "      <th>3</th>\n",
       "      <td>0</td>\n",
       "      <td>37</td>\n",
       "      <td>0</td>\n",
       "      <td>2</td>\n",
       "      <td>1</td>\n",
       "      <td>1</td>\n",
       "      <td>778</td>\n",
       "      <td>25564.01</td>\n",
       "      <td>129909.8079</td>\n",
       "      <td>0</td>\n",
       "      <td>0</td>\n",
       "      <td>1</td>\n",
       "    </tr>\n",
       "    <tr>\n",
       "      <th>4</th>\n",
       "      <td>1</td>\n",
       "      <td>55</td>\n",
       "      <td>4</td>\n",
       "      <td>3</td>\n",
       "      <td>1</td>\n",
       "      <td>0</td>\n",
       "      <td>547</td>\n",
       "      <td>3235.61</td>\n",
       "      <td>136976.1948</td>\n",
       "      <td>0</td>\n",
       "      <td>0</td>\n",
       "      <td>1</td>\n",
       "    </tr>\n",
       "  </tbody>\n",
       "</table>\n",
       "</div>"
      ],
      "text/plain": [
       "   Gender  Age  Tenure  ProductsNo  HasCard  ActiveMember  Credit  AccountBal  \\\n",
       "0       0   40       9           2        0             1     516     6360.66   \n",
       "1       1   69       6           2        0             1     682    28605.00   \n",
       "2       0   32       9           1        1             1     803    10378.09   \n",
       "3       0   37       0           2        1             1     778    25564.01   \n",
       "4       1   55       4           3        1             0     547     3235.61   \n",
       "\n",
       "        Salary  City_Beijing  City_Shanghai  City_Tianjin  \n",
       "0       0.0000             1              0             0  \n",
       "1       0.0000             1              0             0  \n",
       "2  236311.0932             1              0             0  \n",
       "3  129909.8079             0              0             1  \n",
       "4  136976.1948             0              0             1  "
      ]
     },
     "execution_count": 17,
     "metadata": {},
     "output_type": "execute_result"
    }
   ],
   "source": [
    "#构建特征和数据标签。\n",
    "y=df_bank['Exited']\n",
    "X=df_bank.drop(['Name','Exited','City'],axis=1)\n",
    "X.head()\n",
    "#数据标签一共有12个维度"
   ]
  },
  {
   "cell_type": "code",
   "execution_count": 18,
   "id": "experimental-harvest",
   "metadata": {},
   "outputs": [],
   "source": [
    "from sklearn.model_selection import train_test_split\n",
    "X_train,X_test,y_train,y_test=train_test_split(X,y,test_size=0.2,random_state=0)"
   ]
  },
  {
   "cell_type": "code",
   "execution_count": 19,
   "id": "cheap-survivor",
   "metadata": {},
   "outputs": [
    {
     "name": "stdout",
     "output_type": "stream",
     "text": [
      "逻辑回归的预测准确率为：78.35%\n"
     ]
    }
   ],
   "source": [
    "#尝试先用Sklearn逻辑回归算法看一下：\n",
    "from sklearn.linear_model import LogisticRegression\n",
    "lr=LogisticRegression()\n",
    "history=lr.fit(X_train,y_train)\n",
    "print('逻辑回归的预测准确率为：{:.2f}%'.format(lr.score(X_test,y_test)*100))"
   ]
  },
  {
   "cell_type": "code",
   "execution_count": 20,
   "id": "exotic-stream",
   "metadata": {},
   "outputs": [
    {
     "name": "stdout",
     "output_type": "stream",
     "text": [
      "Model: \"sequential\"\n",
      "_________________________________________________________________\n",
      "Layer (type)                 Output Shape              Param #   \n",
      "=================================================================\n",
      "dense (Dense)                (None, 12)                144       \n",
      "_________________________________________________________________\n",
      "dense_1 (Dense)              (None, 24)                312       \n",
      "_________________________________________________________________\n",
      "dense_2 (Dense)              (None, 1)                 25        \n",
      "=================================================================\n",
      "Total params: 481\n",
      "Trainable params: 481\n",
      "Non-trainable params: 0\n",
      "_________________________________________________________________\n"
     ]
    }
   ],
   "source": [
    "#使用Keras package 构建sequence网络\n",
    "import keras \n",
    "from keras.models import Sequential\n",
    "from keras.layers import Dense\n",
    "ann=Sequential()#构建一个Sequential ann模型\n",
    "ann.add(Dense(units=12,input_dim=11,activation='relu'))#添加输入层\n",
    "ann.add(Dense(units=24,activation='relu'))\n",
    "ann.add(Dense(units=1,activation='sigmoid'))\n",
    "ann.summary()"
   ]
  },
  {
   "cell_type": "markdown",
   "id": "south-respondent",
   "metadata": {},
   "source": [
    "***Sequential***也叫顺序模型，是最常用的深度网络层和层间结构，也就是一层接一层，顺序地堆叠。\n",
    "\n",
    "***Dense***是最常用的深度网络层的类型，也称为全连接层，即当前层和其下一层的所有神经元之间全有连接。"
   ]
  },
  {
   "cell_type": "code",
   "execution_count": 23,
   "id": "cutting-australian",
   "metadata": {},
   "outputs": [
    {
     "ename": "ModuleNotFoundError",
     "evalue": "No module named 'Ipython'",
     "output_type": "error",
     "traceback": [
      "\u001b[0;31m---------------------------------------------------------------------------\u001b[0m",
      "\u001b[0;31mModuleNotFoundError\u001b[0m                       Traceback (most recent call last)",
      "\u001b[0;32m<ipython-input-23-baef0fccf8e2>\u001b[0m in \u001b[0;36m<module>\u001b[0;34m\u001b[0m\n\u001b[1;32m      1\u001b[0m \u001b[0;31m#显示出神经网络形状的另一种方法：\u001b[0m\u001b[0;34m\u001b[0m\u001b[0;34m\u001b[0m\u001b[0;34m\u001b[0m\u001b[0m\n\u001b[0;32m----> 2\u001b[0;31m \u001b[0;32mfrom\u001b[0m \u001b[0mIpython\u001b[0m\u001b[0;34m.\u001b[0m\u001b[0mdisplay\u001b[0m \u001b[0;32mimport\u001b[0m \u001b[0mSVG\u001b[0m\u001b[0;34m\u001b[0m\u001b[0;34m\u001b[0m\u001b[0m\n\u001b[0m\u001b[1;32m      3\u001b[0m \u001b[0;32mfrom\u001b[0m \u001b[0mkeras\u001b[0m\u001b[0;34m.\u001b[0m\u001b[0mutils\u001b[0m\u001b[0;34m.\u001b[0m\u001b[0mvis_utils\u001b[0m \u001b[0;32mimport\u001b[0m \u001b[0mmodel_to_dot\u001b[0m\u001b[0;34m\u001b[0m\u001b[0;34m\u001b[0m\u001b[0m\n\u001b[1;32m      4\u001b[0m \u001b[0mSVG\u001b[0m\u001b[0;34m(\u001b[0m\u001b[0;34m(\u001b[0m\u001b[0mmodel_to_dot\u001b[0m\u001b[0;34m(\u001b[0m\u001b[0mann\u001b[0m\u001b[0;34m,\u001b[0m\u001b[0mshow_shape\u001b[0m\u001b[0;34m=\u001b[0m\u001b[0;32mTrue\u001b[0m\u001b[0;34m)\u001b[0m\u001b[0;34m.\u001b[0m\u001b[0mcreate\u001b[0m\u001b[0;34m(\u001b[0m\u001b[0mprog\u001b[0m\u001b[0;34m=\u001b[0m\u001b[0;34m'dot'\u001b[0m\u001b[0;34m,\u001b[0m\u001b[0mformat\u001b[0m\u001b[0;34m=\u001b[0m\u001b[0;34m'svg'\u001b[0m\u001b[0;34m)\u001b[0m\u001b[0;34m)\u001b[0m\u001b[0;34m)\u001b[0m\u001b[0;34m\u001b[0m\u001b[0;34m\u001b[0m\u001b[0m\n",
      "\u001b[0;31mModuleNotFoundError\u001b[0m: No module named 'Ipython'"
     ]
    }
   ],
   "source": [
    "#显示出神经网络形状的另一种方法：\n",
    "from Ipython.display import SVG\n",
    "from keras.utils.vis_utils import model_to_dot\n",
    "SVG((model_to_dot(ann,show_shape=True).create(prog='dot',format='svg')))"
   ]
  },
  {
   "cell_type": "code",
   "execution_count": 25,
   "id": "flexible-estate",
   "metadata": {},
   "outputs": [],
   "source": [
    "#编译神经网络，指定优化器，损失函数，以及评估指标\n",
    "ann.compile(optimizer='adam',loss='binary_crossentropy',metrics=['acc'])"
   ]
  },
  {
   "cell_type": "code",
   "execution_count": null,
   "id": "silver-float",
   "metadata": {},
   "outputs": [],
   "source": []
  }
 ],
 "metadata": {
  "kernelspec": {
   "display_name": "Python 3",
   "language": "python",
   "name": "python3"
  },
  "language_info": {
   "codemirror_mode": {
    "name": "ipython",
    "version": 3
   },
   "file_extension": ".py",
   "mimetype": "text/x-python",
   "name": "python",
   "nbconvert_exporter": "python",
   "pygments_lexer": "ipython3",
   "version": "3.7.3"
  }
 },
 "nbformat": 4,
 "nbformat_minor": 5
}
