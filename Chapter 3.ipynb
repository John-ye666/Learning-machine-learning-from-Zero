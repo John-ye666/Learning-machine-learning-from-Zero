{
 "cells": [
  {
   "cell_type": "markdown",
   "id": "encouraging-rotation",
   "metadata": {},
   "source": [
    "# Chapter3: 线性回归-预测网店的销售额"
   ]
  },
  {
   "cell_type": "markdown",
   "id": "anticipated-flavor",
   "metadata": {},
   "source": [
    "* 机器学习实战的架构（步骤）：\n",
    "    1. 定义我们的问题是什么\n",
    "    2. 数据收集和预处理\n",
    "        * 收集数据\n",
    "        * 数据可视化\n",
    "        * 特征工程-使得数据更容易被machine 处理\n",
    "        * 差分数据集-训练与测试\n",
    "        * 特征缩放-regularization\n",
    "    3. 选择机器学习模型\n",
    "    4. 训练机器，确定参数\n",
    "    5. 超参数调试和性能优化\n",
    "    "
   ]
  },
  {
   "cell_type": "code",
   "execution_count": null,
   "id": "advance-ghost",
   "metadata": {},
   "outputs": [],
   "source": []
  }
 ],
 "metadata": {
  "kernelspec": {
   "display_name": "Python 3",
   "language": "python",
   "name": "python3"
  },
  "language_info": {
   "codemirror_mode": {
    "name": "ipython",
    "version": 3
   },
   "file_extension": ".py",
   "mimetype": "text/x-python",
   "name": "python",
   "nbconvert_exporter": "python",
   "pygments_lexer": "ipython3",
   "version": "3.7.3"
  }
 },
 "nbformat": 4,
 "nbformat_minor": 5
}
