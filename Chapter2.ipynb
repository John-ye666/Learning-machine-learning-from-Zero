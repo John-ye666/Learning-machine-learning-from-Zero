{
 "cells": [
  {
   "cell_type": "markdown",
   "id": "verbal-portal",
   "metadata": {},
   "source": [
    "# Chapter 2 数学知识和Python基础知识--一天搞定"
   ]
  },
  {
   "cell_type": "markdown",
   "id": "worse-uganda",
   "metadata": {},
   "source": [
    "* 传统机器学习\n",
    "    * 线性回归\n",
    "    * 逻辑回归\n",
    "    * 决策树\n",
    "    * 朴素贝叶斯\n",
    "*深度学习\n",
    "    * 各种复杂跨层堆叠\n",
    "    "
   ]
  },
  {
   "cell_type": "markdown",
   "id": "suitable-advancement",
   "metadata": {},
   "source": [
    "# 函数总结\n",
    "* sigmoid 函数：$y(x)=\\frac{1}{1+e^{-x}}$\n",
    "* ReLU 函数：$y=max(x,0)$\n",
    "* Leaky ReLU 函数：$y=max(\\epsilon x,x)$, where $\\epsilon$ is slope."
   ]
  },
  {
   "cell_type": "code",
   "execution_count": 1,
   "id": "plain-monroe",
   "metadata": {},
   "outputs": [
    {
     "name": "stdout",
     "output_type": "stream",
     "text": [
      "以10为底，求一亿的对数: 8.0\n"
     ]
    }
   ],
   "source": [
    "import math\n",
    "y=math.log(100000000,10)\n",
    "print(\"以10为底，求一亿的对数:\",y)"
   ]
  },
  {
   "cell_type": "markdown",
   "id": "confident-writing",
   "metadata": {},
   "source": [
    "## 梯度(Gradient)\n",
    "**def:对多元函数求偏导数，然后把所求得的各个参数的偏导数以向量的形式写出来**\n",
    "\n",
    "### 梯度下降：本质就是找最优化问题的一种方式，借助的工具有可能是convex analysis.\n",
    "\n",
    "\n"
   ]
  },
  {
   "cell_type": "markdown",
   "id": "hourly-director",
   "metadata": {},
   "source": [
    "## 张量(Tensor)\n",
    "**Def: 机器学习中，用于存储数据的结构叫张量！**\n",
    "张量本质是一个容器：是不同维度的数组。维度称为轴，轴的个数为阶（也是张量的形状）。\n",
    "eg: 标量是0D Tensor; Vector ->1D Tensor; Matrix -> 2D Tensor; \n",
    "关于Tensor 可以详见[Deep Learning with Python-Second Edition](https://www.manning.com/books/deep-learning-with-python-second-edition)"
   ]
  },
  {
   "cell_type": "code",
   "execution_count": 2,
   "id": "electoral-preview",
   "metadata": {},
   "outputs": [
    {
     "name": "stdout",
     "output_type": "stream",
     "text": [
      "X的值 5\n",
      "X的阶 0\n",
      "X的数据类型 int64\n",
      "X的形状 ()\n"
     ]
    }
   ],
   "source": [
    "import numpy as np\n",
    "X=np.array(5)#0D Tensor\n",
    "print('X的值',X)\n",
    "print('X的阶',X.ndim)\n",
    "print('X的数据类型',X.dtype)\n",
    "print('X的形状',X.shape)"
   ]
  },
  {
   "cell_type": "code",
   "execution_count": 3,
   "id": "employed-merchandise",
   "metadata": {},
   "outputs": [
    {
     "name": "stdout",
     "output_type": "stream",
     "text": [
      "X的值 [5 6 7 8 9]\n",
      "X的阶 1\n",
      "X的形状 (5,)\n"
     ]
    }
   ],
   "source": [
    "#1D Tensor\n",
    "X=np.array([5,6,7,8,9])\n",
    "print('X的值',X)\n",
    "print('X的阶',X.ndim)\n",
    "print('X的形状',X.shape)"
   ]
  },
  {
   "cell_type": "markdown",
   "id": "nonprofit-kelly",
   "metadata": {},
   "source": [
    "*note: 如果你也和我一样,非计算机专业，对array一知半解，可以参考任何‘数据结构’课程。* 对于我来书，[Data Structures](https://www.linkedin.com/learning/programming-foundations-data-structures-2/what-are-arrays?u=80268241)比较有帮助。"
   ]
  },
  {
   "cell_type": "code",
   "execution_count": 4,
   "id": "hybrid-speaking",
   "metadata": {},
   "outputs": [
    {
     "name": "stdout",
     "output_type": "stream",
     "text": [
      "X_train的形状： (404, 13)\n",
      "X_train中第一个样本的形状 (13,)\n",
      "y_train的形状 (404,)\n"
     ]
    }
   ],
   "source": [
    "#Take a look at Botson_housing Datasets\n",
    "from keras.datasets import boston_housing\n",
    "(X_train,y_train),(X_test,y_test)=boston_housing.load_data()\n",
    "print('X_train的形状：',X_train.shape)\n",
    "print('X_train中第一个样本的形状',X_train[0].shape)\n",
    "print('y_train的形状',y_train.shape)"
   ]
  },
  {
   "cell_type": "code",
   "execution_count": 5,
   "id": "threaded-channels",
   "metadata": {},
   "outputs": [
    {
     "name": "stdout",
     "output_type": "stream",
     "text": [
      "函数返回结果： 23.2\n"
     ]
    }
   ],
   "source": [
    "#向量的点积\n",
    "weight=np.array([1,-1.8,1,1,2])\n",
    "X=np.array([1,6,7,8,9])\n",
    "y_hat=np.dot(X,weight)\n",
    "print('函数返回结果：',y_hat)#Dot product returns a value instead of a vector."
   ]
  },
  {
   "cell_type": "markdown",
   "id": "fitting-romania",
   "metadata": {},
   "source": [
    "矩阵是2D Tensor, 形状为(样本，特征)，第一个轴为样本轴，第二个为特征轴。"
   ]
  },
  {
   "cell_type": "code",
   "execution_count": 6,
   "id": "fatal-montgomery",
   "metadata": {},
   "outputs": [
    {
     "name": "stdout",
     "output_type": "stream",
     "text": [
      "X_train的内容： [[1.23247e+00 0.00000e+00 8.14000e+00 ... 2.10000e+01 3.96900e+02\n",
      "  1.87200e+01]\n",
      " [2.17700e-02 8.25000e+01 2.03000e+00 ... 1.47000e+01 3.95380e+02\n",
      "  3.11000e+00]\n",
      " [4.89822e+00 0.00000e+00 1.81000e+01 ... 2.02000e+01 3.75520e+02\n",
      "  3.26000e+00]\n",
      " ...\n",
      " [3.46600e-02 3.50000e+01 6.06000e+00 ... 1.69000e+01 3.62250e+02\n",
      "  7.83000e+00]\n",
      " [2.14918e+00 0.00000e+00 1.95800e+01 ... 1.47000e+01 2.61950e+02\n",
      "  1.57900e+01]\n",
      " [1.43900e-02 6.00000e+01 2.93000e+00 ... 1.56000e+01 3.76700e+02\n",
      "  4.38000e+00]]\n"
     ]
    }
   ],
   "source": [
    "print('X_train的内容：',X_train)"
   ]
  },
  {
   "cell_type": "markdown",
   "id": "nonprofit-africa",
   "metadata": {},
   "source": [
    "时间序列是一个3D Tensor\n",
    "\n",
    "图像是4D Tensor (样本，图像高度，图像宽度，颜色深度)\n",
    "\n",
    "视频数据是5D Tensor:(样本（视频本身），帧，高度，宽度，颜色深度)\n",
    "\n"
   ]
  },
  {
   "cell_type": "markdown",
   "id": "catholic-maximum",
   "metadata": {},
   "source": [
    "在机器学习中，维度指的是在一个数据轴上的许多点，也就是样本的个数（样本轴上点的个数）或者特征的个数（特征轴上点的个数）"
   ]
  },
  {
   "cell_type": "code",
   "execution_count": 18,
   "id": "dynamic-charge",
   "metadata": {},
   "outputs": [
    {
     "ename": "SyntaxError",
     "evalue": "invalid syntax (<ipython-input-18-f7c6529fd0ba>, line 5)",
     "output_type": "error",
     "traceback": [
      "\u001b[0;36m  File \u001b[0;32m\"<ipython-input-18-f7c6529fd0ba>\"\u001b[0;36m, line \u001b[0;32m5\u001b[0m\n\u001b[0;31m    print('列表：',list)\u001b[0m\n\u001b[0m        ^\u001b[0m\n\u001b[0;31mSyntaxError\u001b[0m\u001b[0;31m:\u001b[0m invalid syntax\n"
     ]
    }
   ],
   "source": [
    "#2.5\n",
    "list=[1,2,3,4,5]\n",
    "array_01=np.array([1,2,3,4,5])\n",
    "array_02=np.array((6,7,8,9,10)\n",
    "print('列表：',list)\n",
    "print('列表转换为数组:', array_01)\n",
    "print('元组转换为数组：',array_02)#tuple to array\n",
    "print('数组的形状：',array_01.shape)\n",
    "print('列表的形状：',list.shape)\n",
    "#Don't know why they always know errors. Need to check later."
   ]
  },
  {
   "cell_type": "code",
   "execution_count": 21,
   "id": "described-anime",
   "metadata": {},
   "outputs": [
    {
     "name": "stdout",
     "output_type": "stream",
     "text": [
      "[1 2 3 4]\n",
      "[1. 2. 3. 4. 5.]\n"
     ]
    }
   ],
   "source": [
    "array_04=np.arange(1,5,1)#首：尾：步长\n",
    "array_05=np.linspace(1,5,5)#1到5之间分成5份，首：尾：份数\n",
    "print(array_04)\n",
    "print(array_05)"
   ]
  },
  {
   "cell_type": "code",
   "execution_count": 23,
   "id": "noble-agenda",
   "metadata": {},
   "outputs": [
    {
     "name": "stdout",
     "output_type": "stream",
     "text": [
      "[0 1 2 3 4 5 6 7 8 9]\n",
      "第4个元素： 3\n",
      "第-1个元素： 9\n",
      "从0到4切片： [0 1 2 3]\n",
      "从0到12切片，步长为4 [1 5 9]\n"
     ]
    }
   ],
   "source": [
    "array_06=np.arange(10)\n",
    "print(array_06)\n",
    "index_01=array_06[3]\n",
    "print('第4个元素：',index_01)\n",
    "index_02=array_06[-1]#the last\n",
    "print('第-1个元素：',index_02)\n",
    "slice_01=array_06[:4]\n",
    "print('从0到4切片：',slice_01)\n",
    "slice_02=array_06[1:12:4]\n",
    "print('从0到12切片，步长为4',slice_02)\n"
   ]
  },
  {
   "cell_type": "code",
   "execution_count": 24,
   "id": "minimal-maximum",
   "metadata": {},
   "outputs": [
    {
     "name": "stdout",
     "output_type": "stream",
     "text": [
      "[[4 5 6]] 它的形状是 (1, 3)\n",
      "[4 5 6] 它的形状又不同了 (3,)\n"
     ]
    }
   ],
   "source": [
    "array_07=np.array([[1,2,3],[4,5,6]])\n",
    "print(array_07[1:2],'它的形状是',array_07[1:2].shape)\n",
    "print(array_07[1:2][0],'它的形状又不同了',array_07[1:2][0].shape)"
   ]
  },
  {
   "cell_type": "code",
   "execution_count": 25,
   "id": "advisory-senior",
   "metadata": {},
   "outputs": [
    {
     "name": "stdout",
     "output_type": "stream",
     "text": [
      "[[2 3 4]\n",
      " [5 6 7]]\n"
     ]
    }
   ],
   "source": [
    "array_07+=1#都加1\n",
    "print(array_07)\n"
   ]
  },
  {
   "cell_type": "code",
   "execution_count": 26,
   "id": "encouraging-patient",
   "metadata": {},
   "outputs": [
    {
     "name": "stdout",
     "output_type": "stream",
     "text": [
      "[[2 3 4]\n",
      " [5 6 7]] 形状是 (2, 3)\n",
      "[[2 3]\n",
      " [4 5]\n",
      " [6 7]] THE SHAPE IS (3, 2)\n"
     ]
    }
   ],
   "source": [
    "#Tensor reshape\n",
    "print(array_07,'形状是',array_07.shape)\n",
    "print(array_07.reshape(3,2),'THE SHAPE IS',array_07.reshape(3,2).shape)"
   ]
  },
  {
   "cell_type": "code",
   "execution_count": 27,
   "id": "nominated-distance",
   "metadata": {},
   "outputs": [
    {
     "name": "stdout",
     "output_type": "stream",
     "text": [
      "[[2 5]\n",
      " [3 6]\n",
      " [4 7]]\n"
     ]
    }
   ],
   "source": [
    "array_07=array_07.T\n",
    "print(array_07)"
   ]
  },
  {
   "cell_type": "code",
   "execution_count": 28,
   "id": "restricted-democracy",
   "metadata": {},
   "outputs": [
    {
     "name": "stdout",
     "output_type": "stream",
     "text": [
      "[0 1 2 3 4 5 6 7 8 9] the shape is (10,) the rank is: 1\n",
      "[[0]\n",
      " [1]\n",
      " [2]\n",
      " [3]\n",
      " [4]\n",
      " [5]\n",
      " [6]\n",
      " [7]\n",
      " [8]\n",
      " [9]] the shape is (10, 1) the rank is: 2\n"
     ]
    }
   ],
   "source": [
    "print(array_06,'the shape is',array_06.shape,'the rank is:',array_06.ndim)\n",
    "array_06=array_06.reshape(10,1)\n",
    "print(array_06,'the shape is',array_06.shape,'the rank is:',array_06.ndim)"
   ]
  },
  {
   "cell_type": "code",
   "execution_count": 30,
   "id": "acknowledged-ethics",
   "metadata": {},
   "outputs": [
    {
     "name": "stdout",
     "output_type": "stream",
     "text": [
      "array_09 的形状： (1, 3)\n",
      "array_10 的形状： (4, 1)\n",
      "array_12 的形状： (3,)\n",
      "array_13 的形状： (1,)\n",
      "array_14 的形状： (1, 1)\n",
      "08+09 Result [[ 0  1  2]\n",
      " [10 11 12]\n",
      " [20 21 22]\n",
      " [30 31 32]]\n",
      "08+10 Result [[ 0  0  0]\n",
      " [11 11 11]\n",
      " [22 22 22]\n",
      " [33 33 33]]\n",
      "08+11 Result [[ 0  1  2]\n",
      " [10 11 12]\n",
      " [20 21 22]\n",
      " [30 31 32]]\n",
      "08+12 Result [[ 0  1  2]\n",
      " [10 11 12]\n",
      " [20 21 22]\n",
      " [30 31 32]]\n",
      "08+13 Result [[ 1  1  1]\n",
      " [11 11 11]\n",
      " [21 21 21]\n",
      " [31 31 31]]\n",
      "08+14 Result [[ 1  1  1]\n",
      " [11 11 11]\n",
      " [21 21 21]\n",
      " [31 31 31]]\n"
     ]
    }
   ],
   "source": [
    "#Broadcast in python\n",
    "array_08=np.array([[0,0,0],[10,10,10],[20,20,20],[30,30,30]])\n",
    "array_09=np.array([[0,1,2]])\n",
    "array_10=np.array([[0],[1],[2],[3]])\n",
    "list_11=[[0,1,2]]\n",
    "print('array_09 的形状：',array_09.shape)\n",
    "print('array_10 的形状：',array_10.shape)\n",
    "array_12=array_09.reshape(3)\n",
    "print('array_12 的形状：',array_12.shape)\n",
    "array_13=np.array([1])\n",
    "print('array_13 的形状：',array_13.shape)\n",
    "array_14=array_13.reshape(1,1)\n",
    "print('array_14 的形状：',array_14.shape)\n",
    "print('08+09 Result',array_08+array_09)\n",
    "print('08+10 Result',array_08+array_10)\n",
    "print('08+11 Result',array_08+list_11)\n",
    "print('08+12 Result',array_08+array_12)\n",
    "print('08+13 Result',array_08+array_13)\n",
    "print('08+14 Result',array_08+array_14)"
   ]
  },
  {
   "cell_type": "code",
   "execution_count": 34,
   "id": "determined-inquiry",
   "metadata": {},
   "outputs": [
    {
     "name": "stdout",
     "output_type": "stream",
     "text": [
      "vector_01 shape: (3,)\n",
      "vector_02 shape: (3, 1)\n",
      "vector_03 shape: (1,)\n",
      "vector_04 shape: (1, 3)\n",
      "the dot product of 01 and 01 14\n",
      "the dot product of 01 and 02 [14]\n",
      "the dot product of 04 and 02 [[14]]\n",
      "the dot product of 01 and number [2 4 6]\n",
      "the dot product of 02 and 03 [2 4 6]\n",
      "the dot product of 02 and 04 [[1 2 3]\n",
      " [2 4 6]\n",
      " [3 6 9]]\n"
     ]
    },
    {
     "ename": "ValueError",
     "evalue": "shapes (3,) and (1,) not aligned: 3 (dim 0) != 1 (dim 0)",
     "output_type": "error",
     "traceback": [
      "\u001b[0;31m---------------------------------------------------------------------------\u001b[0m",
      "\u001b[0;31mValueError\u001b[0m                                Traceback (most recent call last)",
      "\u001b[0;32m<ipython-input-34-da12a38a7d6f>\u001b[0m in \u001b[0;36m<module>\u001b[0;34m\u001b[0m\n\u001b[1;32m     13\u001b[0m \u001b[0mprint\u001b[0m\u001b[0;34m(\u001b[0m\u001b[0;34m'the dot product of 02 and 03'\u001b[0m\u001b[0;34m,\u001b[0m\u001b[0mnp\u001b[0m\u001b[0;34m.\u001b[0m\u001b[0mdot\u001b[0m\u001b[0;34m(\u001b[0m\u001b[0mvector_02\u001b[0m\u001b[0;34m,\u001b[0m\u001b[0mvector_03\u001b[0m\u001b[0;34m)\u001b[0m\u001b[0;34m)\u001b[0m\u001b[0;34m\u001b[0m\u001b[0;34m\u001b[0m\u001b[0m\n\u001b[1;32m     14\u001b[0m \u001b[0mprint\u001b[0m\u001b[0;34m(\u001b[0m\u001b[0;34m'the dot product of 02 and 04'\u001b[0m\u001b[0;34m,\u001b[0m\u001b[0mnp\u001b[0m\u001b[0;34m.\u001b[0m\u001b[0mdot\u001b[0m\u001b[0;34m(\u001b[0m\u001b[0mvector_02\u001b[0m\u001b[0;34m,\u001b[0m\u001b[0mvector_04\u001b[0m\u001b[0;34m)\u001b[0m\u001b[0;34m)\u001b[0m\u001b[0;34m\u001b[0m\u001b[0;34m\u001b[0m\u001b[0m\n\u001b[0;32m---> 15\u001b[0;31m \u001b[0mprint\u001b[0m\u001b[0;34m(\u001b[0m\u001b[0;34m'the dot product of 01 and 03'\u001b[0m\u001b[0;34m,\u001b[0m\u001b[0mnp\u001b[0m\u001b[0;34m.\u001b[0m\u001b[0mdot\u001b[0m\u001b[0;34m(\u001b[0m\u001b[0mvector_01\u001b[0m\u001b[0;34m,\u001b[0m\u001b[0mvector_03\u001b[0m\u001b[0;34m)\u001b[0m\u001b[0;34m)\u001b[0m\u001b[0;34m\u001b[0m\u001b[0;34m\u001b[0m\u001b[0m\n\u001b[0m\u001b[1;32m     16\u001b[0m \u001b[0mprint\u001b[0m\u001b[0;34m(\u001b[0m\u001b[0;34m'the dot product of 02 and 02'\u001b[0m\u001b[0;34m,\u001b[0m\u001b[0mnp\u001b[0m\u001b[0;34m.\u001b[0m\u001b[0mdot\u001b[0m\u001b[0;34m(\u001b[0m\u001b[0mvector_02\u001b[0m\u001b[0;34m,\u001b[0m\u001b[0mvector_02\u001b[0m\u001b[0;34m)\u001b[0m\u001b[0;34m)\u001b[0m\u001b[0;34m\u001b[0m\u001b[0;34m\u001b[0m\u001b[0m\n",
      "\u001b[0;32m<__array_function__ internals>\u001b[0m in \u001b[0;36mdot\u001b[0;34m(*args, **kwargs)\u001b[0m\n",
      "\u001b[0;31mValueError\u001b[0m: shapes (3,) and (1,) not aligned: 3 (dim 0) != 1 (dim 0)"
     ]
    }
   ],
   "source": [
    "vector_01=np.array([1,2,3])\n",
    "vector_02=np.array([[1],[2],[3]])\n",
    "vector_03=np.array([2])\n",
    "vector_04=vector_02.reshape(1,3)\n",
    "print('vector_01 shape:',vector_01.shape)\n",
    "print('vector_02 shape:',vector_02.shape)\n",
    "print('vector_03 shape:',vector_03.shape)\n",
    "print('vector_04 shape:',vector_04.shape)\n",
    "#我对书里对以上解释有疑问\n",
    "print('the dot product of 01 and 01',np.dot(vector_01,vector_01))\n",
    "print('the dot product of 01 and 02',np.dot(vector_01,vector_02))\n",
    "print('the dot product of 04 and 02',np.dot(vector_04,vector_02))\n",
    "print('the dot product of 01 and number',np.dot(vector_01,2))\n",
    "print('the dot product of 02 and 03',np.dot(vector_02,vector_03))\n",
    "print('the dot product of 02 and 04',np.dot(vector_02,vector_04))\n",
    "print('the dot product of 01 and 03',np.dot(vector_01,vector_03))\n",
    "print('the dot product of 02 and 02',np.dot(vector_02,vector_02))"
   ]
  },
  {
   "cell_type": "code",
   "execution_count": null,
   "id": "english-adrian",
   "metadata": {},
   "outputs": [],
   "source": []
  }
 ],
 "metadata": {
  "kernelspec": {
   "display_name": "Python 3",
   "language": "python",
   "name": "python3"
  },
  "language_info": {
   "codemirror_mode": {
    "name": "ipython",
    "version": 3
   },
   "file_extension": ".py",
   "mimetype": "text/x-python",
   "name": "python",
   "nbconvert_exporter": "python",
   "pygments_lexer": "ipython3",
   "version": "3.7.3"
  }
 },
 "nbformat": 4,
 "nbformat_minor": 5
}
