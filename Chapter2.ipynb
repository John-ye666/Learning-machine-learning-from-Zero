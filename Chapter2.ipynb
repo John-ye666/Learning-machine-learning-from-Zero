{
 "cells": [
  {
   "cell_type": "markdown",
   "id": "verbal-portal",
   "metadata": {},
   "source": [
    "# Chapter 2 数学知识和Python基础知识--一天搞定"
   ]
  },
  {
   "cell_type": "markdown",
   "id": "worse-uganda",
   "metadata": {},
   "source": [
    "* 传统机器学习\n",
    "    * 线性回归\n",
    "    * 逻辑回归\n",
    "    * 决策树\n",
    "    * 朴素贝叶斯\n",
    "*深度学习\n",
    "    * 各种复杂跨层堆叠\n",
    "    "
   ]
  },
  {
   "cell_type": "markdown",
   "id": "suitable-advancement",
   "metadata": {},
   "source": [
    "# 函数总结\n",
    "* sigmoid 函数：$y(x)=\\frac{1}{1+e^{-x}}$\n",
    "* ReLU 函数：$y=max(x,0)$\n",
    "* Leaky ReLU 函数：$y=max(\\epsilon x,x)$, where $\\epsilon$ is slope."
   ]
  },
  {
   "cell_type": "code",
   "execution_count": 2,
   "id": "plain-monroe",
   "metadata": {},
   "outputs": [
    {
     "name": "stdout",
     "output_type": "stream",
     "text": [
      "以10为底，求一亿的对数: 8.0\n"
     ]
    }
   ],
   "source": [
    "import math\n",
    "y=math.log(100000000,10)\n",
    "print(\"以10为底，求一亿的对数:\",y)"
   ]
  },
  {
   "cell_type": "markdown",
   "id": "confident-writing",
   "metadata": {},
   "source": [
    "## 梯度(Gradient)\n",
    "**def:对多元函数求偏导数，然后把所求得的各个参数的偏导数以向量的形式写出来**\n",
    "\n",
    "### 梯度下降：本质就是找最优化问题的一种方式，借助的工具有可能是convex analysis.\n",
    "\n",
    "\n"
   ]
  },
  {
   "cell_type": "markdown",
   "id": "hourly-director",
   "metadata": {},
   "source": [
    "## 张量(Tensor)\n",
    "**Def: 机器学习中，用于存储数据的结构叫张量！**\n",
    "张量本质是一个容器：是不同维度的数组。维度称为轴，轴的个数为阶（也是张量的形状）。\n",
    "eg: 标量是0D Tensor; Vector ->1D Tensor; Matrix -> 2D Tensor; \n",
    "关于Tensor 可以详见[Deep Learning with Python-Second Edition](https://www.manning.com/books/deep-learning-with-python-second-edition)"
   ]
  },
  {
   "cell_type": "code",
   "execution_count": 4,
   "id": "electoral-preview",
   "metadata": {},
   "outputs": [
    {
     "name": "stdout",
     "output_type": "stream",
     "text": [
      "X的值 5\n",
      "X的阶 0\n",
      "X的数据类型 int64\n",
      "X的形状 ()\n"
     ]
    }
   ],
   "source": [
    "import numpy as np\n",
    "X=np.array(5)#0D Tensor\n",
    "print('X的值',X)\n",
    "print('X的阶',X.ndim)\n",
    "print('X的数据类型',X.dtype)\n",
    "print('X的形状',X.shape)"
   ]
  },
  {
   "cell_type": "code",
   "execution_count": 5,
   "id": "employed-merchandise",
   "metadata": {},
   "outputs": [
    {
     "name": "stdout",
     "output_type": "stream",
     "text": [
      "X的值 [5 6 7 8 9]\n",
      "X的阶 1\n",
      "X的形状 (5,)\n"
     ]
    }
   ],
   "source": [
    "#1D Tensor\n",
    "X=np.array([5,6,7,8,9])\n",
    "print('X的值',X)\n",
    "print('X的阶',X.ndim)\n",
    "print('X的形状',X.shape)"
   ]
  },
  {
   "cell_type": "markdown",
   "id": "nonprofit-kelly",
   "metadata": {},
   "source": [
    "*note: 如果你也和我一样,非计算机专业，对array一知半解，可以参考任何‘数据结构’课程。* 对于我来书，[Data Structures](https://www.linkedin.com/learning/programming-foundations-data-structures-2/what-are-arrays?u=80268241)比较有帮助。"
   ]
  },
  {
   "cell_type": "code",
   "execution_count": 6,
   "id": "hybrid-speaking",
   "metadata": {},
   "outputs": [
    {
     "name": "stdout",
     "output_type": "stream",
     "text": [
      "X_train的形状： (404, 13)\n",
      "X_train中第一个样本的形状 (13,)\n",
      "y_train的形状 (404,)\n"
     ]
    }
   ],
   "source": [
    "#Take a look at Botson_housing Datasets\n",
    "from keras.datasets import boston_housing\n",
    "(X_train,y_train),(X_test,y_test)=boston_housing.load_data()\n",
    "print('X_train的形状：',X_train.shape)\n",
    "print('X_train中第一个样本的形状',X_train[0].shape)\n",
    "print('y_train的形状',y_train.shape)"
   ]
  },
  {
   "cell_type": "code",
   "execution_count": 7,
   "id": "threaded-channels",
   "metadata": {},
   "outputs": [
    {
     "name": "stdout",
     "output_type": "stream",
     "text": [
      "函数返回结果： 23.2\n"
     ]
    }
   ],
   "source": [
    "#向量的点积\n",
    "weight=np.array([1,-1.8,1,1,2])\n",
    "X=np.array([1,6,7,8,9])\n",
    "y_hat=np.dot(X,weight)\n",
    "print('函数返回结果：',y_hat)#Dot product returns a value instead of a vector."
   ]
  },
  {
   "cell_type": "code",
   "execution_count": null,
   "id": "thirty-appreciation",
   "metadata": {},
   "outputs": [],
   "source": []
  }
 ],
 "metadata": {
  "kernelspec": {
   "display_name": "Python 3",
   "language": "python",
   "name": "python3"
  },
  "language_info": {
   "codemirror_mode": {
    "name": "ipython",
    "version": 3
   },
   "file_extension": ".py",
   "mimetype": "text/x-python",
   "name": "python",
   "nbconvert_exporter": "python",
   "pygments_lexer": "ipython3",
   "version": "3.7.3"
  }
 },
 "nbformat": 4,
 "nbformat_minor": 5
}
